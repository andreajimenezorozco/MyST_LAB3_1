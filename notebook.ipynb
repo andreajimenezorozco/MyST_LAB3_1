{
 "cells": [
  {
   "cell_type": "markdown",
   "metadata": {},
   "source": [
    "<img src=\"http://oci02.img.iteso.mx/identidad_de_instancia_2018/ITESO/Logos%20ITESO/Logo-ITESO-Principal.jpg\">"
   ]
  },
  {
   "cell_type": "markdown",
   "metadata": {},
   "source": [
    "<center><font color=#555555><font size=6> Ingeniería Financiera </font> <br> <br>\n",
    "\n",
    "<center><font color=#555555><font size=5> ITE1731 - Microestructura y Sistemas de Trading </font> <br> <br> <br>\n",
    "\n",
    "<center><font color=#555555><font size=5> I.F. Sofía Mariana García Mora </font> <br> <br>\n",
    "<center><font color=#555555><font size=5> I.F. Evelyn Gutiérrez </font> <br> <br>\n",
    "<center><font color=#555555><font size=5> I.F. Andrea Jiménez Orozco </font> <br> <br>\n",
    "<center><font color=#555555><font size=5> I.F. Roberto Chávez Guerrero </font> <br> <br>\n",
    "<center><font color=#555555><font size=5> I.F. José Fernando Flores García </font> <br> <br>\n",
    "\n",
    "\n",
    "   \n",
    "<center> <font color= #555555> <font size = 4> Septiembre 2020 </a> | <font color= #555555> <font size = 4> Repositorio: <a href='https://github.com/andreajimenezorozco/MyST_LAB3_1'>Link</a></font>"
   ]
  },
  {
   "cell_type": "markdown",
   "metadata": {},
   "source": [
    "<br>"
   ]
  },
  {
   "cell_type": "markdown",
   "metadata": {},
   "source": [
    "---"
   ]
  },
  {
   "cell_type": "markdown",
   "metadata": {},
   "source": [
    "<br>"
   ]
  },
  {
   "cell_type": "markdown",
   "metadata": {},
   "source": [
    "<br>"
   ]
  },
  {
   "cell_type": "markdown",
   "metadata": {},
   "source": [
    "<center> <font color= #555555> <font size = 6> Laboratorio 3 </font> <br> <br> <font color= #555555> <font size = 5> Análisis del desempeño de Trading </font>"
   ]
  },
  {
   "cell_type": "markdown",
   "metadata": {},
   "source": [
    "# <font color= #555555> <font size = 5> Abstract </font>"
   ]
  },
  {
   "cell_type": "markdown",
   "metadata": {},
   "source": [
    "<font color= #6B6B6B> <font size = 2> Este documento fue elaborado por los I.F. **Sofía García, Evelyn Gutiérrez, Andrea Jiménez Orozco, Roberto Chávez Guerrero y José Fernando Flores García**, como un trabajo parcial para la materia de **Microestructura y Sistemas de Trading - ITE1731**, la cual es parte del curriculum de la licenciatura en Ingeniería Financiera, ofertada por la universidad **ITESO**. En el presente trabajo se plantea la respuesta a la siguiente pregunta: *¿Cómo análizar el desempeño de la actividad de trading?*</font> "
   ]
  },
  {
   "cell_type": "markdown",
   "metadata": {},
   "source": [
    "<br>"
   ]
  },
  {
   "cell_type": "markdown",
   "metadata": {},
   "source": [
    "# <font color= #6B6B6B> <font size = 6> 0. Librerías y Dependencias </font>"
   ]
  },
  {
   "cell_type": "markdown",
   "metadata": {},
   "source": [
    "<hr style=\"border:0.02in solid gray\"> </hr>"
   ]
  },
  {
   "cell_type": "markdown",
   "metadata": {},
   "source": [
    "# <font color= #6B6B6B> <font size = 5> 0.1 Librerías </font> <font color= #555555>"
   ]
  },
  {
   "cell_type": "markdown",
   "metadata": {},
   "source": [
    "<font color= #6B6B6B> <font size = 2> Para correr este notebook es necesario tener instaladas y/o en el archivo _requirements.txt_ las siguientes librerías : </font>"
   ]
  },
  {
   "cell_type": "markdown",
   "metadata": {},
   "source": [
    "<font color= #6B6B6B> <font size = 2>  \n",
    "- pandas >= 1.1.1 \n",
    "- numpy >= 1.19.1\n",
    "- jupyter >= 1.0.0\n",
    "- statistics \n",
    "- getpass\n",
    "- MetaTrader5 >= 5.0.34\n",
    "- datetime\n",
    "    </font>"
   ]
  },
  {
   "cell_type": "markdown",
   "metadata": {},
   "source": [
    "# <font color= #6B6B6B> <font size = 5> 0.2 Dependencias </font> <font color= #555555>"
   ]
  },
  {
   "cell_type": "markdown",
   "metadata": {},
   "source": [
    "<font color= #6B6B6B> <font size = 2> Para correr este notebook es necesario contar con los siguientes archivos y dependencias externas: </font>"
   ]
  },
  {
   "cell_type": "markdown",
   "metadata": {},
   "source": [
    "<font color= #6B6B6B> <font size = 2>  \n",
    "- files/Accounts.xlsx : Archivo de cuentas sugeridas\n",
    "    </font>"
   ]
  },
  {
   "cell_type": "markdown",
   "metadata": {},
   "source": [
    "<br>"
   ]
  },
  {
   "cell_type": "markdown",
   "metadata": {},
   "source": [
    "# <font color= #6B6B6B> <font size = 6> 1. Introducción </font>"
   ]
  },
  {
   "cell_type": "markdown",
   "metadata": {},
   "source": [
    "<hr style=\"border:0.02in solid gray\"> </hr\n",
    "\n",
    "Las personas somos seres que hemos sido estudiados y analizados a lo largo de la vida y por lo mismo muchas veces se conoce como es que todas las personas tienden a comportamientos o toma de decisiones semejantes a pesar de sus diferencias de creencias, gustos, religión, etcétera.\n",
    "\n",
    "Por otro lado, sabemos por el laboratorio anterior que hacer trading es el acto o proceso de comprar/vender uno o varios activos constantemente y este es el medio para rebalancear un portafolio constantemente, lo anterior con el fin de obtener la mayor rentabilidad posible, sin embargo, la rentabilidad depende enteramente de las deciciones que tome el trader en cada una de sus decisiones.\n",
    "\n",
    "Por otro lado, \"Behavioral Finance\" estudia cómo afecta la psicología humana a la toma de decisiones financieras. Esta corriente incorpora el comportamiento de los participantes en los mercados financieros a los modelos. \n",
    "Por ejemplo, como fue visto en clase, un comportamiento general descubierto en las finanzas es el que el dolor a la perdida es mayor que el placer a la ganancia. Cuando un tradeer esta invirtiendo tomas sus decisiones en base a este dolor/placer que existen por las perdidas/ganancias.\n",
    "\n",
    "En el presente laboratorio se mostrará mediante la estructura de proyectos de Pyhton: la estadística descirptiva de las decisiones de las cuentas de los integrantes del equipo de MetaTarder5, las metricas de atribución al desempeño, behavioral finance y las visualizaciones. "
   ]
  },
  {
   "cell_type": "markdown",
   "metadata": {},
   "source": [
    "<font color= #6B6B6B> <font size = 2>  \n",
    "    \n",
    "    \n",
    "    \n",
    "    \n",
    "    \n",
    "    \n",
    "    \n",
    "    \n",
    "</font>"
   ]
  },
  {
   "cell_type": "markdown",
   "metadata": {},
   "source": [
    "<br>"
   ]
  },
  {
   "cell_type": "markdown",
   "metadata": {},
   "source": [
    "# <font color= #6B6B6B> <font size = 6> 2. Objetivos </font>"
   ]
  },
  {
   "cell_type": "markdown",
   "metadata": {},
   "source": [
    "<hr style=\"border:0.02in solid gray\"> </hr>\n",
    "\n",
    "Este laboratorio tiene como propósito particular el elaborar herramientas para el análisis del desempeño de la actividad de trading, desde el punto de vista de la cuenta y desde el punto de vista de la persona que opera la cuenta (trader)."
   ]
  },
  {
   "cell_type": "markdown",
   "metadata": {},
   "source": [
    "<font color= #6B6B6B> <font size = 2> Este laboratorio tiene como propósito particular el elaborar herramientas para el análisis del desempeño de la actividad de trading, desde el punto de vista de la cuenta y desde el punto de vista de la persona que opera la cuenta (trader). </font> "
   ]
  },
  {
   "cell_type": "markdown",
   "metadata": {},
   "source": [
    "<br>"
   ]
  },
  {
   "cell_type": "markdown",
   "metadata": {},
   "source": [
    "# <font color= #6B6B6B> <font size = 6> 3. Datos </font>"
   ]
  },
  {
   "cell_type": "markdown",
   "metadata": {},
   "source": [
    "<hr style=\"border:0.02in solid gray\"> </hr>"
   ]
  },
  {
   "cell_type": "code",
   "execution_count": 1,
   "metadata": {},
   "outputs": [],
   "source": [
    "#Librerías\n",
    "from functions import *\n",
    "import warnings\n",
    "warnings.filterwarnings(\"ignore\")"
   ]
  },
  {
   "cell_type": "code",
   "execution_count": 2,
   "metadata": {},
   "outputs": [
    {
     "name": "stdout",
     "output_type": "stream",
     "text": [
      "Los nombres son: ['Sofia', 'Chavez', 'Andrea', 'Fernando']\n",
      "Ingrese nombre del integrante a analizar: Sofia\n",
      "Se inició con éxito la cuenta\n"
     ]
    },
    {
     "data": {
      "text/html": [
       "<div>\n",
       "<style scoped>\n",
       "    .dataframe tbody tr th:only-of-type {\n",
       "        vertical-align: middle;\n",
       "    }\n",
       "\n",
       "    .dataframe tbody tr th {\n",
       "        vertical-align: top;\n",
       "    }\n",
       "\n",
       "    .dataframe thead th {\n",
       "        text-align: right;\n",
       "    }\n",
       "</style>\n",
       "<table border=\"1\" class=\"dataframe\">\n",
       "  <thead>\n",
       "    <tr style=\"text-align: right;\">\n",
       "      <th></th>\n",
       "      <th>Position</th>\n",
       "      <th>Time</th>\n",
       "      <th>Symbol</th>\n",
       "      <th>Type</th>\n",
       "      <th>Volume</th>\n",
       "      <th>Price</th>\n",
       "      <th>Time.1</th>\n",
       "      <th>Price.1</th>\n",
       "      <th>Commission</th>\n",
       "      <th>Swap</th>\n",
       "      <th>Profit</th>\n",
       "    </tr>\n",
       "  </thead>\n",
       "  <tbody>\n",
       "    <tr>\n",
       "      <th>0</th>\n",
       "      <td>874808802</td>\n",
       "      <td>1613966331</td>\n",
       "      <td>USDCHF</td>\n",
       "      <td>sell</td>\n",
       "      <td>0.11</td>\n",
       "      <td>0.89665</td>\n",
       "      <td>1613989736</td>\n",
       "      <td>0.90170</td>\n",
       "      <td>0.0</td>\n",
       "      <td>0.00</td>\n",
       "      <td>-61.61</td>\n",
       "    </tr>\n",
       "    <tr>\n",
       "      <th>1</th>\n",
       "      <td>876774544</td>\n",
       "      <td>1614062869</td>\n",
       "      <td>USDHKD</td>\n",
       "      <td>sell</td>\n",
       "      <td>0.01</td>\n",
       "      <td>7.75336</td>\n",
       "      <td>1614116190</td>\n",
       "      <td>7.75403</td>\n",
       "      <td>0.0</td>\n",
       "      <td>0.00</td>\n",
       "      <td>-0.09</td>\n",
       "    </tr>\n",
       "    <tr>\n",
       "      <th>2</th>\n",
       "      <td>875643545</td>\n",
       "      <td>1614007518</td>\n",
       "      <td>USDCHF</td>\n",
       "      <td>sell</td>\n",
       "      <td>0.10</td>\n",
       "      <td>0.89671</td>\n",
       "      <td>1614149025</td>\n",
       "      <td>0.90671</td>\n",
       "      <td>0.0</td>\n",
       "      <td>-0.22</td>\n",
       "      <td>-110.29</td>\n",
       "    </tr>\n",
       "    <tr>\n",
       "      <th>3</th>\n",
       "      <td>878724283</td>\n",
       "      <td>1614152189</td>\n",
       "      <td>USDNOK</td>\n",
       "      <td>sell</td>\n",
       "      <td>0.10</td>\n",
       "      <td>8.46777</td>\n",
       "      <td>1614208999</td>\n",
       "      <td>8.37131</td>\n",
       "      <td>0.0</td>\n",
       "      <td>0.00</td>\n",
       "      <td>115.23</td>\n",
       "    </tr>\n",
       "    <tr>\n",
       "      <th>4</th>\n",
       "      <td>874636239</td>\n",
       "      <td>1613778939</td>\n",
       "      <td>EURUSD</td>\n",
       "      <td>sell</td>\n",
       "      <td>0.11</td>\n",
       "      <td>1.21174</td>\n",
       "      <td>1614238068</td>\n",
       "      <td>1.21824</td>\n",
       "      <td>0.0</td>\n",
       "      <td>-0.66</td>\n",
       "      <td>-71.50</td>\n",
       "    </tr>\n",
       "    <tr>\n",
       "      <th>5</th>\n",
       "      <td>874637419</td>\n",
       "      <td>1613779140</td>\n",
       "      <td>EURUSD</td>\n",
       "      <td>buy</td>\n",
       "      <td>0.11</td>\n",
       "      <td>1.21181</td>\n",
       "      <td>1614251703</td>\n",
       "      <td>1.22181</td>\n",
       "      <td>0.0</td>\n",
       "      <td>-0.47</td>\n",
       "      <td>110.00</td>\n",
       "    </tr>\n",
       "    <tr>\n",
       "      <th>6</th>\n",
       "      <td>880833109</td>\n",
       "      <td>1614237697</td>\n",
       "      <td>GBPUSD</td>\n",
       "      <td>sell</td>\n",
       "      <td>0.10</td>\n",
       "      <td>1.41643</td>\n",
       "      <td>1614306288</td>\n",
       "      <td>1.39643</td>\n",
       "      <td>0.0</td>\n",
       "      <td>-0.22</td>\n",
       "      <td>200.00</td>\n",
       "    </tr>\n",
       "    <tr>\n",
       "      <th>7</th>\n",
       "      <td>882851193</td>\n",
       "      <td>1614319761</td>\n",
       "      <td>EURUSD</td>\n",
       "      <td>buy</td>\n",
       "      <td>0.11</td>\n",
       "      <td>1.21595</td>\n",
       "      <td>1614319767</td>\n",
       "      <td>1.21586</td>\n",
       "      <td>0.0</td>\n",
       "      <td>0.00</td>\n",
       "      <td>-0.99</td>\n",
       "    </tr>\n",
       "    <tr>\n",
       "      <th>8</th>\n",
       "      <td>882483277</td>\n",
       "      <td>1614294398</td>\n",
       "      <td>USDMXN</td>\n",
       "      <td>sell</td>\n",
       "      <td>0.10</td>\n",
       "      <td>20.88910</td>\n",
       "      <td>1614346933</td>\n",
       "      <td>21.04000</td>\n",
       "      <td>0.0</td>\n",
       "      <td>0.96</td>\n",
       "      <td>-71.72</td>\n",
       "    </tr>\n",
       "    <tr>\n",
       "      <th>9</th>\n",
       "      <td>884365574</td>\n",
       "      <td>1614367898</td>\n",
       "      <td>USDMXN</td>\n",
       "      <td>buy</td>\n",
       "      <td>0.10</td>\n",
       "      <td>20.96200</td>\n",
       "      <td>1614383986</td>\n",
       "      <td>20.80000</td>\n",
       "      <td>0.0</td>\n",
       "      <td>0.00</td>\n",
       "      <td>-77.88</td>\n",
       "    </tr>\n",
       "    <tr>\n",
       "      <th>10</th>\n",
       "      <td>886096608</td>\n",
       "      <td>1614636094</td>\n",
       "      <td>EURCAD</td>\n",
       "      <td>buy</td>\n",
       "      <td>0.50</td>\n",
       "      <td>1.52423</td>\n",
       "      <td>1614687875</td>\n",
       "      <td>1.52116</td>\n",
       "      <td>0.0</td>\n",
       "      <td>-0.43</td>\n",
       "      <td>-121.30</td>\n",
       "    </tr>\n",
       "    <tr>\n",
       "      <th>11</th>\n",
       "      <td>887380293</td>\n",
       "      <td>1614711502</td>\n",
       "      <td>EURUSD</td>\n",
       "      <td>sell</td>\n",
       "      <td>0.30</td>\n",
       "      <td>1.20771</td>\n",
       "      <td>1614885957</td>\n",
       "      <td>1.20200</td>\n",
       "      <td>0.0</td>\n",
       "      <td>-1.20</td>\n",
       "      <td>171.30</td>\n",
       "    </tr>\n",
       "    <tr>\n",
       "      <th>12</th>\n",
       "      <td>889361059</td>\n",
       "      <td>1614842925</td>\n",
       "      <td>USDCHF</td>\n",
       "      <td>sell</td>\n",
       "      <td>0.01</td>\n",
       "      <td>0.91919</td>\n",
       "      <td>1614891218</td>\n",
       "      <td>0.92961</td>\n",
       "      <td>0.0</td>\n",
       "      <td>0.00</td>\n",
       "      <td>-11.21</td>\n",
       "    </tr>\n",
       "    <tr>\n",
       "      <th>13</th>\n",
       "      <td>889949503</td>\n",
       "      <td>1614872496</td>\n",
       "      <td>USDSGD</td>\n",
       "      <td>sell</td>\n",
       "      <td>0.50</td>\n",
       "      <td>1.33132</td>\n",
       "      <td>1614958255</td>\n",
       "      <td>1.34289</td>\n",
       "      <td>0.0</td>\n",
       "      <td>-1.49</td>\n",
       "      <td>-430.79</td>\n",
       "    </tr>\n",
       "    <tr>\n",
       "      <th>14</th>\n",
       "      <td>891995518</td>\n",
       "      <td>1614970060</td>\n",
       "      <td>USDMXN</td>\n",
       "      <td>sell</td>\n",
       "      <td>0.50</td>\n",
       "      <td>21.29330</td>\n",
       "      <td>1615195359</td>\n",
       "      <td>21.42090</td>\n",
       "      <td>0.0</td>\n",
       "      <td>4.68</td>\n",
       "      <td>-297.84</td>\n",
       "    </tr>\n",
       "    <tr>\n",
       "      <th>15</th>\n",
       "      <td>884877228</td>\n",
       "      <td>1614579862</td>\n",
       "      <td>USDCAD</td>\n",
       "      <td>sell</td>\n",
       "      <td>0.10</td>\n",
       "      <td>1.27080</td>\n",
       "      <td>1615331643</td>\n",
       "      <td>1.26439</td>\n",
       "      <td>0.0</td>\n",
       "      <td>-0.24</td>\n",
       "      <td>50.70</td>\n",
       "    </tr>\n",
       "  </tbody>\n",
       "</table>\n",
       "</div>"
      ],
      "text/plain": [
       "     Position        Time  Symbol  Type  Volume     Price      Time.1  \\\n",
       "0   874808802  1613966331  USDCHF  sell    0.11   0.89665  1613989736   \n",
       "1   876774544  1614062869  USDHKD  sell    0.01   7.75336  1614116190   \n",
       "2   875643545  1614007518  USDCHF  sell    0.10   0.89671  1614149025   \n",
       "3   878724283  1614152189  USDNOK  sell    0.10   8.46777  1614208999   \n",
       "4   874636239  1613778939  EURUSD  sell    0.11   1.21174  1614238068   \n",
       "5   874637419  1613779140  EURUSD   buy    0.11   1.21181  1614251703   \n",
       "6   880833109  1614237697  GBPUSD  sell    0.10   1.41643  1614306288   \n",
       "7   882851193  1614319761  EURUSD   buy    0.11   1.21595  1614319767   \n",
       "8   882483277  1614294398  USDMXN  sell    0.10  20.88910  1614346933   \n",
       "9   884365574  1614367898  USDMXN   buy    0.10  20.96200  1614383986   \n",
       "10  886096608  1614636094  EURCAD   buy    0.50   1.52423  1614687875   \n",
       "11  887380293  1614711502  EURUSD  sell    0.30   1.20771  1614885957   \n",
       "12  889361059  1614842925  USDCHF  sell    0.01   0.91919  1614891218   \n",
       "13  889949503  1614872496  USDSGD  sell    0.50   1.33132  1614958255   \n",
       "14  891995518  1614970060  USDMXN  sell    0.50  21.29330  1615195359   \n",
       "15  884877228  1614579862  USDCAD  sell    0.10   1.27080  1615331643   \n",
       "\n",
       "     Price.1  Commission  Swap  Profit  \n",
       "0    0.90170         0.0  0.00  -61.61  \n",
       "1    7.75403         0.0  0.00   -0.09  \n",
       "2    0.90671         0.0 -0.22 -110.29  \n",
       "3    8.37131         0.0  0.00  115.23  \n",
       "4    1.21824         0.0 -0.66  -71.50  \n",
       "5    1.22181         0.0 -0.47  110.00  \n",
       "6    1.39643         0.0 -0.22  200.00  \n",
       "7    1.21586         0.0  0.00   -0.99  \n",
       "8   21.04000         0.0  0.96  -71.72  \n",
       "9   20.80000         0.0  0.00  -77.88  \n",
       "10   1.52116         0.0 -0.43 -121.30  \n",
       "11   1.20200         0.0 -1.20  171.30  \n",
       "12   0.92961         0.0  0.00  -11.21  \n",
       "13   1.34289         0.0 -1.49 -430.79  \n",
       "14  21.42090         0.0  4.68 -297.84  \n",
       "15   1.26439         0.0 -0.24   50.70  "
      ]
     },
     "execution_count": 2,
     "metadata": {},
     "output_type": "execute_result"
    }
   ],
   "source": [
    "#Se muestra el ejemplo crudo de una cuenta\n",
    "f_leer_archivo()"
   ]
  },
  {
   "cell_type": "markdown",
   "metadata": {},
   "source": [
    "# <font color= #6B6B6B> <font size = 6> 4. Procesos </font>"
   ]
  },
  {
   "cell_type": "markdown",
   "metadata": {},
   "source": [
    "<hr style=\"border:0.02in solid gray\"> </hr>"
   ]
  },
  {
   "cell_type": "markdown",
   "metadata": {},
   "source": [
    "<h2><font color= #6B6B6B> Parte1. Creación de un análisis de pips, tiempo transcurrido, así como estadísticas básicas </font></h2>\n",
    "    \n",
    "    \n",
    "<font color= #6B6B6B> <font size = 2> Los múltiples DataFrames creados serán útiles para realizar análisis y estadísticas básicas de las cuentas de los integrantes del equipo (o cualquier otra cuenta de trading que se encuentre en el servidor MetaQuotesDemo). </font> "
   ]
  },
  {
   "cell_type": "code",
   "execution_count": 3,
   "metadata": {},
   "outputs": [
    {
     "name": "stdout",
     "output_type": "stream",
     "text": [
      "Los nombres son: ['Sofia', 'Chavez', 'Andrea', 'Fernando']\n",
      "Ingrese nombre del integrante a analizar: Fernando\n",
      "Se inició con éxito la cuenta\n",
      "Primer análisis realizado con éxito\n"
     ]
    }
   ],
   "source": [
    "data, data2, data3, data4, df1_est_ba, df2_ranking = Full_Part1()"
   ]
  },
  {
   "cell_type": "code",
   "execution_count": 4,
   "metadata": {},
   "outputs": [
    {
     "data": {
      "text/plain": [
       "(100, 10000)"
      ]
     },
     "execution_count": 4,
     "metadata": {},
     "output_type": "execute_result"
    }
   ],
   "source": [
    "#Ejemplo de tamaño de pips independientemente del intrumento\n",
    "f_pip_size('USDJPY'), f_pip_size('AUDUSD')"
   ]
  },
  {
   "cell_type": "code",
   "execution_count": 5,
   "metadata": {},
   "outputs": [
    {
     "data": {
      "text/html": [
       "<div>\n",
       "<style scoped>\n",
       "    .dataframe tbody tr th:only-of-type {\n",
       "        vertical-align: middle;\n",
       "    }\n",
       "\n",
       "    .dataframe tbody tr th {\n",
       "        vertical-align: top;\n",
       "    }\n",
       "\n",
       "    .dataframe thead th {\n",
       "        text-align: right;\n",
       "    }\n",
       "</style>\n",
       "<table border=\"1\" class=\"dataframe\">\n",
       "  <thead>\n",
       "    <tr style=\"text-align: right;\">\n",
       "      <th></th>\n",
       "      <th>Position</th>\n",
       "      <th>Time</th>\n",
       "      <th>Symbol</th>\n",
       "      <th>Type</th>\n",
       "      <th>Volume</th>\n",
       "      <th>Price</th>\n",
       "      <th>Time.1</th>\n",
       "      <th>Price.1</th>\n",
       "      <th>Commission</th>\n",
       "      <th>Swap</th>\n",
       "      <th>Profit</th>\n",
       "      <th>open_time</th>\n",
       "      <th>close_time</th>\n",
       "      <th>time</th>\n",
       "      <th>pips</th>\n",
       "      <th>pips_acm</th>\n",
       "      <th>profit_acm</th>\n",
       "    </tr>\n",
       "  </thead>\n",
       "  <tbody>\n",
       "    <tr>\n",
       "      <th>0</th>\n",
       "      <td>872818543</td>\n",
       "      <td>1613687752</td>\n",
       "      <td>EURUSD</td>\n",
       "      <td>buy</td>\n",
       "      <td>0.02</td>\n",
       "      <td>1.20908</td>\n",
       "      <td>1613687758</td>\n",
       "      <td>1.20909</td>\n",
       "      <td>0.0</td>\n",
       "      <td>0.00</td>\n",
       "      <td>0.02</td>\n",
       "      <td>2021-02-18 16:35:52</td>\n",
       "      <td>2021-02-18 16:35:58</td>\n",
       "      <td>6.0</td>\n",
       "      <td>0.1</td>\n",
       "      <td>0.1</td>\n",
       "      <td>0.02</td>\n",
       "    </tr>\n",
       "    <tr>\n",
       "      <th>1</th>\n",
       "      <td>873084407</td>\n",
       "      <td>1613711769</td>\n",
       "      <td>EURUSD</td>\n",
       "      <td>buy</td>\n",
       "      <td>0.10</td>\n",
       "      <td>1.20856</td>\n",
       "      <td>1613720194</td>\n",
       "      <td>1.20954</td>\n",
       "      <td>0.0</td>\n",
       "      <td>0.00</td>\n",
       "      <td>9.80</td>\n",
       "      <td>2021-02-18 23:16:09</td>\n",
       "      <td>2021-02-19 01:36:34</td>\n",
       "      <td>8425.0</td>\n",
       "      <td>9.8</td>\n",
       "      <td>9.9</td>\n",
       "      <td>9.82</td>\n",
       "    </tr>\n",
       "    <tr>\n",
       "      <th>2</th>\n",
       "      <td>874838330</td>\n",
       "      <td>1613968663</td>\n",
       "      <td>GBPUSD</td>\n",
       "      <td>buy</td>\n",
       "      <td>2.80</td>\n",
       "      <td>1.40189</td>\n",
       "      <td>1614135981</td>\n",
       "      <td>1.41588</td>\n",
       "      <td>0.0</td>\n",
       "      <td>-1.12</td>\n",
       "      <td>3917.20</td>\n",
       "      <td>2021-02-21 22:37:43</td>\n",
       "      <td>2021-02-23 21:06:21</td>\n",
       "      <td>167318.0</td>\n",
       "      <td>139.9</td>\n",
       "      <td>149.8</td>\n",
       "      <td>3927.02</td>\n",
       "    </tr>\n",
       "    <tr>\n",
       "      <th>3</th>\n",
       "      <td>879607110</td>\n",
       "      <td>1614184117</td>\n",
       "      <td>EURUSD</td>\n",
       "      <td>buy</td>\n",
       "      <td>7.00</td>\n",
       "      <td>1.21329</td>\n",
       "      <td>1614186629</td>\n",
       "      <td>1.21200</td>\n",
       "      <td>0.0</td>\n",
       "      <td>0.00</td>\n",
       "      <td>-903.00</td>\n",
       "      <td>2021-02-24 10:28:37</td>\n",
       "      <td>2021-02-24 11:10:29</td>\n",
       "      <td>2512.0</td>\n",
       "      <td>-12.9</td>\n",
       "      <td>136.9</td>\n",
       "      <td>3024.02</td>\n",
       "    </tr>\n",
       "    <tr>\n",
       "      <th>4</th>\n",
       "      <td>879593812</td>\n",
       "      <td>1614183711</td>\n",
       "      <td>USDJPY</td>\n",
       "      <td>buy</td>\n",
       "      <td>3.70</td>\n",
       "      <td>105.98600</td>\n",
       "      <td>1614267174</td>\n",
       "      <td>106.19300</td>\n",
       "      <td>0.0</td>\n",
       "      <td>-1.05</td>\n",
       "      <td>721.23</td>\n",
       "      <td>2021-02-24 10:21:51</td>\n",
       "      <td>2021-02-25 09:32:54</td>\n",
       "      <td>83463.0</td>\n",
       "      <td>20.7</td>\n",
       "      <td>157.6</td>\n",
       "      <td>3745.25</td>\n",
       "    </tr>\n",
       "  </tbody>\n",
       "</table>\n",
       "</div>"
      ],
      "text/plain": [
       "    Position        Time  Symbol Type  Volume      Price      Time.1  \\\n",
       "0  872818543  1613687752  EURUSD  buy    0.02    1.20908  1613687758   \n",
       "1  873084407  1613711769  EURUSD  buy    0.10    1.20856  1613720194   \n",
       "2  874838330  1613968663  GBPUSD  buy    2.80    1.40189  1614135981   \n",
       "3  879607110  1614184117  EURUSD  buy    7.00    1.21329  1614186629   \n",
       "4  879593812  1614183711  USDJPY  buy    3.70  105.98600  1614267174   \n",
       "\n",
       "     Price.1  Commission  Swap   Profit           open_time  \\\n",
       "0    1.20909         0.0  0.00     0.02 2021-02-18 16:35:52   \n",
       "1    1.20954         0.0  0.00     9.80 2021-02-18 23:16:09   \n",
       "2    1.41588         0.0 -1.12  3917.20 2021-02-21 22:37:43   \n",
       "3    1.21200         0.0  0.00  -903.00 2021-02-24 10:28:37   \n",
       "4  106.19300         0.0 -1.05   721.23 2021-02-24 10:21:51   \n",
       "\n",
       "           close_time      time   pips  pips_acm  profit_acm  \n",
       "0 2021-02-18 16:35:58       6.0    0.1       0.1        0.02  \n",
       "1 2021-02-19 01:36:34    8425.0    9.8       9.9        9.82  \n",
       "2 2021-02-23 21:06:21  167318.0  139.9     149.8     3927.02  \n",
       "3 2021-02-24 11:10:29    2512.0  -12.9     136.9     3024.02  \n",
       "4 2021-02-25 09:32:54   83463.0   20.7     157.6     3745.25  "
      ]
     },
     "execution_count": 5,
     "metadata": {},
     "output_type": "execute_result"
    }
   ],
   "source": [
    "#Primer DataFrame con lectura de datos\n",
    "data.head()"
   ]
  },
  {
   "cell_type": "code",
   "execution_count": 6,
   "metadata": {},
   "outputs": [
    {
     "data": {
      "text/html": [
       "<div>\n",
       "<style scoped>\n",
       "    .dataframe tbody tr th:only-of-type {\n",
       "        vertical-align: middle;\n",
       "    }\n",
       "\n",
       "    .dataframe tbody tr th {\n",
       "        vertical-align: top;\n",
       "    }\n",
       "\n",
       "    .dataframe thead th {\n",
       "        text-align: right;\n",
       "    }\n",
       "</style>\n",
       "<table border=\"1\" class=\"dataframe\">\n",
       "  <thead>\n",
       "    <tr style=\"text-align: right;\">\n",
       "      <th></th>\n",
       "      <th>Position</th>\n",
       "      <th>Time</th>\n",
       "      <th>Symbol</th>\n",
       "      <th>Type</th>\n",
       "      <th>Volume</th>\n",
       "      <th>Price</th>\n",
       "      <th>Time.1</th>\n",
       "      <th>Price.1</th>\n",
       "      <th>Commission</th>\n",
       "      <th>Swap</th>\n",
       "      <th>Profit</th>\n",
       "      <th>open_time</th>\n",
       "      <th>close_time</th>\n",
       "      <th>time</th>\n",
       "      <th>pips</th>\n",
       "      <th>pips_acm</th>\n",
       "      <th>profit_acm</th>\n",
       "    </tr>\n",
       "  </thead>\n",
       "  <tbody>\n",
       "    <tr>\n",
       "      <th>0</th>\n",
       "      <td>872818543</td>\n",
       "      <td>1613687752</td>\n",
       "      <td>EURUSD</td>\n",
       "      <td>buy</td>\n",
       "      <td>0.02</td>\n",
       "      <td>1.20908</td>\n",
       "      <td>1613687758</td>\n",
       "      <td>1.20909</td>\n",
       "      <td>0.0</td>\n",
       "      <td>0.00</td>\n",
       "      <td>0.02</td>\n",
       "      <td>2021-02-18 16:35:52</td>\n",
       "      <td>2021-02-18 16:35:58</td>\n",
       "      <td>6.0</td>\n",
       "      <td>0.1</td>\n",
       "      <td>0.1</td>\n",
       "      <td>0.02</td>\n",
       "    </tr>\n",
       "    <tr>\n",
       "      <th>1</th>\n",
       "      <td>873084407</td>\n",
       "      <td>1613711769</td>\n",
       "      <td>EURUSD</td>\n",
       "      <td>buy</td>\n",
       "      <td>0.10</td>\n",
       "      <td>1.20856</td>\n",
       "      <td>1613720194</td>\n",
       "      <td>1.20954</td>\n",
       "      <td>0.0</td>\n",
       "      <td>0.00</td>\n",
       "      <td>9.80</td>\n",
       "      <td>2021-02-18 23:16:09</td>\n",
       "      <td>2021-02-19 01:36:34</td>\n",
       "      <td>8425.0</td>\n",
       "      <td>9.8</td>\n",
       "      <td>9.9</td>\n",
       "      <td>9.82</td>\n",
       "    </tr>\n",
       "    <tr>\n",
       "      <th>2</th>\n",
       "      <td>874838330</td>\n",
       "      <td>1613968663</td>\n",
       "      <td>GBPUSD</td>\n",
       "      <td>buy</td>\n",
       "      <td>2.80</td>\n",
       "      <td>1.40189</td>\n",
       "      <td>1614135981</td>\n",
       "      <td>1.41588</td>\n",
       "      <td>0.0</td>\n",
       "      <td>-1.12</td>\n",
       "      <td>3917.20</td>\n",
       "      <td>2021-02-21 22:37:43</td>\n",
       "      <td>2021-02-23 21:06:21</td>\n",
       "      <td>167318.0</td>\n",
       "      <td>139.9</td>\n",
       "      <td>149.8</td>\n",
       "      <td>3927.02</td>\n",
       "    </tr>\n",
       "    <tr>\n",
       "      <th>3</th>\n",
       "      <td>879607110</td>\n",
       "      <td>1614184117</td>\n",
       "      <td>EURUSD</td>\n",
       "      <td>buy</td>\n",
       "      <td>7.00</td>\n",
       "      <td>1.21329</td>\n",
       "      <td>1614186629</td>\n",
       "      <td>1.21200</td>\n",
       "      <td>0.0</td>\n",
       "      <td>0.00</td>\n",
       "      <td>-903.00</td>\n",
       "      <td>2021-02-24 10:28:37</td>\n",
       "      <td>2021-02-24 11:10:29</td>\n",
       "      <td>2512.0</td>\n",
       "      <td>-12.9</td>\n",
       "      <td>136.9</td>\n",
       "      <td>3024.02</td>\n",
       "    </tr>\n",
       "    <tr>\n",
       "      <th>4</th>\n",
       "      <td>879593812</td>\n",
       "      <td>1614183711</td>\n",
       "      <td>USDJPY</td>\n",
       "      <td>buy</td>\n",
       "      <td>3.70</td>\n",
       "      <td>105.98600</td>\n",
       "      <td>1614267174</td>\n",
       "      <td>106.19300</td>\n",
       "      <td>0.0</td>\n",
       "      <td>-1.05</td>\n",
       "      <td>721.23</td>\n",
       "      <td>2021-02-24 10:21:51</td>\n",
       "      <td>2021-02-25 09:32:54</td>\n",
       "      <td>83463.0</td>\n",
       "      <td>20.7</td>\n",
       "      <td>157.6</td>\n",
       "      <td>3745.25</td>\n",
       "    </tr>\n",
       "  </tbody>\n",
       "</table>\n",
       "</div>"
      ],
      "text/plain": [
       "    Position        Time  Symbol Type  Volume      Price      Time.1  \\\n",
       "0  872818543  1613687752  EURUSD  buy    0.02    1.20908  1613687758   \n",
       "1  873084407  1613711769  EURUSD  buy    0.10    1.20856  1613720194   \n",
       "2  874838330  1613968663  GBPUSD  buy    2.80    1.40189  1614135981   \n",
       "3  879607110  1614184117  EURUSD  buy    7.00    1.21329  1614186629   \n",
       "4  879593812  1614183711  USDJPY  buy    3.70  105.98600  1614267174   \n",
       "\n",
       "     Price.1  Commission  Swap   Profit           open_time  \\\n",
       "0    1.20909         0.0  0.00     0.02 2021-02-18 16:35:52   \n",
       "1    1.20954         0.0  0.00     9.80 2021-02-18 23:16:09   \n",
       "2    1.41588         0.0 -1.12  3917.20 2021-02-21 22:37:43   \n",
       "3    1.21200         0.0  0.00  -903.00 2021-02-24 10:28:37   \n",
       "4  106.19300         0.0 -1.05   721.23 2021-02-24 10:21:51   \n",
       "\n",
       "           close_time      time   pips  pips_acm  profit_acm  \n",
       "0 2021-02-18 16:35:58       6.0    0.1       0.1        0.02  \n",
       "1 2021-02-19 01:36:34    8425.0    9.8       9.9        9.82  \n",
       "2 2021-02-23 21:06:21  167318.0  139.9     149.8     3927.02  \n",
       "3 2021-02-24 11:10:29    2512.0  -12.9     136.9     3024.02  \n",
       "4 2021-02-25 09:32:54   83463.0   20.7     157.6     3745.25  "
      ]
     },
     "execution_count": 6,
     "metadata": {},
     "output_type": "execute_result"
    }
   ],
   "source": [
    "#Se avanza en el análisis de los DataFrames añadiendo columnas de tiempos, pips\n",
    "data3.head()"
   ]
  },
  {
   "cell_type": "code",
   "execution_count": 7,
   "metadata": {},
   "outputs": [
    {
     "data": {
      "text/html": [
       "<div>\n",
       "<style scoped>\n",
       "    .dataframe tbody tr th:only-of-type {\n",
       "        vertical-align: middle;\n",
       "    }\n",
       "\n",
       "    .dataframe tbody tr th {\n",
       "        vertical-align: top;\n",
       "    }\n",
       "\n",
       "    .dataframe thead th {\n",
       "        text-align: right;\n",
       "    }\n",
       "</style>\n",
       "<table border=\"1\" class=\"dataframe\">\n",
       "  <thead>\n",
       "    <tr style=\"text-align: right;\">\n",
       "      <th></th>\n",
       "      <th>medida</th>\n",
       "      <th>valor</th>\n",
       "      <th>descripcion</th>\n",
       "    </tr>\n",
       "  </thead>\n",
       "  <tbody>\n",
       "    <tr>\n",
       "      <th>0</th>\n",
       "      <td>Ops totales</td>\n",
       "      <td>17.00</td>\n",
       "      <td>Operaciones totales</td>\n",
       "    </tr>\n",
       "    <tr>\n",
       "      <th>1</th>\n",
       "      <td>Ganadoras</td>\n",
       "      <td>8.00</td>\n",
       "      <td>Operaciones ganadoras</td>\n",
       "    </tr>\n",
       "    <tr>\n",
       "      <th>2</th>\n",
       "      <td>Ganadoras_c</td>\n",
       "      <td>6.00</td>\n",
       "      <td>Operaciones ganadoras de compra</td>\n",
       "    </tr>\n",
       "    <tr>\n",
       "      <th>3</th>\n",
       "      <td>Ganadoras_v</td>\n",
       "      <td>2.00</td>\n",
       "      <td>Operaciones ganadoras de venta</td>\n",
       "    </tr>\n",
       "    <tr>\n",
       "      <th>4</th>\n",
       "      <td>Perdedoras</td>\n",
       "      <td>9.00</td>\n",
       "      <td>Operaciones perdedoras</td>\n",
       "    </tr>\n",
       "    <tr>\n",
       "      <th>5</th>\n",
       "      <td>Perdedoras_c</td>\n",
       "      <td>6.00</td>\n",
       "      <td>Operaciones perdedoras de compra</td>\n",
       "    </tr>\n",
       "    <tr>\n",
       "      <th>6</th>\n",
       "      <td>Perdedoras_v</td>\n",
       "      <td>3.00</td>\n",
       "      <td>Operaciones perdedoras de venta</td>\n",
       "    </tr>\n",
       "    <tr>\n",
       "      <th>7</th>\n",
       "      <td>Mediana(Profit)</td>\n",
       "      <td>-71.62</td>\n",
       "      <td>Mediana de profit de operaciones</td>\n",
       "    </tr>\n",
       "    <tr>\n",
       "      <th>8</th>\n",
       "      <td>Mediana(Pips)</td>\n",
       "      <td>-9.00</td>\n",
       "      <td>Mediana de pips de operaciones</td>\n",
       "    </tr>\n",
       "    <tr>\n",
       "      <th>9</th>\n",
       "      <td>r_efectividad</td>\n",
       "      <td>0.47</td>\n",
       "      <td>Ganadoras Totales/Operaciones Totales</td>\n",
       "    </tr>\n",
       "    <tr>\n",
       "      <th>10</th>\n",
       "      <td>r_proporcion</td>\n",
       "      <td>0.89</td>\n",
       "      <td>Ganadoras Totales/Perdedoras Totales</td>\n",
       "    </tr>\n",
       "    <tr>\n",
       "      <th>11</th>\n",
       "      <td>r_efectividad_c</td>\n",
       "      <td>0.35</td>\n",
       "      <td>Ganadoras Compras/Operaciones Totales</td>\n",
       "    </tr>\n",
       "    <tr>\n",
       "      <th>12</th>\n",
       "      <td>r_efectividad_v</td>\n",
       "      <td>0.12</td>\n",
       "      <td>Ganadoras Ventas/Operaciones Totales</td>\n",
       "    </tr>\n",
       "  </tbody>\n",
       "</table>\n",
       "</div>"
      ],
      "text/plain": [
       "             medida  valor                            descripcion\n",
       "0       Ops totales  17.00                    Operaciones totales\n",
       "1         Ganadoras   8.00                  Operaciones ganadoras\n",
       "2       Ganadoras_c   6.00        Operaciones ganadoras de compra\n",
       "3       Ganadoras_v   2.00         Operaciones ganadoras de venta\n",
       "4        Perdedoras   9.00                 Operaciones perdedoras\n",
       "5      Perdedoras_c   6.00       Operaciones perdedoras de compra\n",
       "6      Perdedoras_v   3.00        Operaciones perdedoras de venta\n",
       "7   Mediana(Profit) -71.62       Mediana de profit de operaciones\n",
       "8     Mediana(Pips)  -9.00         Mediana de pips de operaciones\n",
       "9     r_efectividad   0.47  Ganadoras Totales/Operaciones Totales\n",
       "10     r_proporcion   0.89   Ganadoras Totales/Perdedoras Totales\n",
       "11  r_efectividad_c   0.35  Ganadoras Compras/Operaciones Totales\n",
       "12  r_efectividad_v   0.12   Ganadoras Ventas/Operaciones Totales"
      ]
     },
     "execution_count": 7,
     "metadata": {},
     "output_type": "execute_result"
    }
   ],
   "source": [
    "#Resultados de estadísticas básicas\n",
    "df1_est_ba"
   ]
  },
  {
   "cell_type": "code",
   "execution_count": 8,
   "metadata": {},
   "outputs": [
    {
     "data": {
      "text/html": [
       "<div>\n",
       "<style scoped>\n",
       "    .dataframe tbody tr th:only-of-type {\n",
       "        vertical-align: middle;\n",
       "    }\n",
       "\n",
       "    .dataframe tbody tr th {\n",
       "        vertical-align: top;\n",
       "    }\n",
       "\n",
       "    .dataframe thead th {\n",
       "        text-align: right;\n",
       "    }\n",
       "</style>\n",
       "<table border=\"1\" class=\"dataframe\">\n",
       "  <thead>\n",
       "    <tr style=\"text-align: right;\">\n",
       "      <th></th>\n",
       "      <th>symbol</th>\n",
       "      <th>rank (%)</th>\n",
       "    </tr>\n",
       "  </thead>\n",
       "  <tbody>\n",
       "    <tr>\n",
       "      <th>0</th>\n",
       "      <td>USDJPY</td>\n",
       "      <td>100.0</td>\n",
       "    </tr>\n",
       "    <tr>\n",
       "      <th>1</th>\n",
       "      <td>EURUSD</td>\n",
       "      <td>80.0</td>\n",
       "    </tr>\n",
       "    <tr>\n",
       "      <th>2</th>\n",
       "      <td>EURJPY</td>\n",
       "      <td>67.0</td>\n",
       "    </tr>\n",
       "    <tr>\n",
       "      <th>3</th>\n",
       "      <td>GBPUSD</td>\n",
       "      <td>33.0</td>\n",
       "    </tr>\n",
       "    <tr>\n",
       "      <th>4</th>\n",
       "      <td>AUDCAD</td>\n",
       "      <td>0.0</td>\n",
       "    </tr>\n",
       "    <tr>\n",
       "      <th>5</th>\n",
       "      <td>AUDUSD</td>\n",
       "      <td>0.0</td>\n",
       "    </tr>\n",
       "    <tr>\n",
       "      <th>6</th>\n",
       "      <td>CADJPY</td>\n",
       "      <td>0.0</td>\n",
       "    </tr>\n",
       "    <tr>\n",
       "      <th>7</th>\n",
       "      <td>USDCHF</td>\n",
       "      <td>0.0</td>\n",
       "    </tr>\n",
       "  </tbody>\n",
       "</table>\n",
       "</div>"
      ],
      "text/plain": [
       "   symbol  rank (%)\n",
       "0  USDJPY     100.0\n",
       "1  EURUSD      80.0\n",
       "2  EURJPY      67.0\n",
       "3  GBPUSD      33.0\n",
       "4  AUDCAD       0.0\n",
       "5  AUDUSD       0.0\n",
       "6  CADJPY       0.0\n",
       "7  USDCHF       0.0"
      ]
     },
     "execution_count": 8,
     "metadata": {},
     "output_type": "execute_result"
    }
   ],
   "source": [
    "#Resultados de ranking\n",
    "df2_ranking"
   ]
  },
  {
   "cell_type": "markdown",
   "metadata": {},
   "source": [
    "### Test"
   ]
  },
  {
   "cell_type": "code",
   "execution_count": 9,
   "metadata": {},
   "outputs": [],
   "source": [
    "def f_evolucion_capital(param_data):\n",
    "    \n",
    "    param_data['close_time'] = [i.strftime('%Y-%m-%d') for i in param_data['close_time']]\n",
    "    param_data['close_time'] = pd.to_datetime(param_data['close_time'])\n",
    "    df = pd.DataFrame({'close_time':pd.date_range(start='2/19/2021', end='3/5/2021')})\n",
    "    df = pd.merge(df,param_data.loc[:,('close_time','Profit')],how='left',on='close_time')\n",
    "    df.columns = ['timestamp','profit_d']\n",
    "    df['profit_d'] = df['profit_d'].fillna(0)\n",
    "    df['profit_acm_d'] = df['profit_d']\n",
    "    df['profit_acm_d'][0] += 100000\n",
    "    df['profit_acm_d'] = df['profit_acm_d'].cumsum()\n",
    "    df = df.set_index('timestamp')\n",
    "    df = df.sort_index(ascending=True)\n",
    "    df= df.resample('D').sum()\n",
    "\n",
    "    return df"
   ]
  },
  {
   "cell_type": "code",
   "execution_count": 10,
   "metadata": {},
   "outputs": [
    {
     "data": {
      "text/html": [
       "<div>\n",
       "<style scoped>\n",
       "    .dataframe tbody tr th:only-of-type {\n",
       "        vertical-align: middle;\n",
       "    }\n",
       "\n",
       "    .dataframe tbody tr th {\n",
       "        vertical-align: top;\n",
       "    }\n",
       "\n",
       "    .dataframe thead th {\n",
       "        text-align: right;\n",
       "    }\n",
       "</style>\n",
       "<table border=\"1\" class=\"dataframe\">\n",
       "  <thead>\n",
       "    <tr style=\"text-align: right;\">\n",
       "      <th></th>\n",
       "      <th>profit_d</th>\n",
       "      <th>profit_acm_d</th>\n",
       "    </tr>\n",
       "    <tr>\n",
       "      <th>timestamp</th>\n",
       "      <th></th>\n",
       "      <th></th>\n",
       "    </tr>\n",
       "  </thead>\n",
       "  <tbody>\n",
       "    <tr>\n",
       "      <th>2021-02-19</th>\n",
       "      <td>9.80</td>\n",
       "      <td>100009.80</td>\n",
       "    </tr>\n",
       "    <tr>\n",
       "      <th>2021-02-20</th>\n",
       "      <td>0.00</td>\n",
       "      <td>100009.80</td>\n",
       "    </tr>\n",
       "    <tr>\n",
       "      <th>2021-02-21</th>\n",
       "      <td>0.00</td>\n",
       "      <td>100009.80</td>\n",
       "    </tr>\n",
       "    <tr>\n",
       "      <th>2021-02-22</th>\n",
       "      <td>0.00</td>\n",
       "      <td>100009.80</td>\n",
       "    </tr>\n",
       "    <tr>\n",
       "      <th>2021-02-23</th>\n",
       "      <td>3917.20</td>\n",
       "      <td>103927.00</td>\n",
       "    </tr>\n",
       "    <tr>\n",
       "      <th>2021-02-24</th>\n",
       "      <td>-903.00</td>\n",
       "      <td>103024.00</td>\n",
       "    </tr>\n",
       "    <tr>\n",
       "      <th>2021-02-25</th>\n",
       "      <td>395.61</td>\n",
       "      <td>414597.68</td>\n",
       "    </tr>\n",
       "    <tr>\n",
       "      <th>2021-02-26</th>\n",
       "      <td>-252.24</td>\n",
       "      <td>103167.37</td>\n",
       "    </tr>\n",
       "    <tr>\n",
       "      <th>2021-02-27</th>\n",
       "      <td>0.00</td>\n",
       "      <td>103167.37</td>\n",
       "    </tr>\n",
       "    <tr>\n",
       "      <th>2021-02-28</th>\n",
       "      <td>0.00</td>\n",
       "      <td>103167.37</td>\n",
       "    </tr>\n",
       "    <tr>\n",
       "      <th>2021-03-01</th>\n",
       "      <td>-1521.68</td>\n",
       "      <td>409594.90</td>\n",
       "    </tr>\n",
       "    <tr>\n",
       "      <th>2021-03-02</th>\n",
       "      <td>0.00</td>\n",
       "      <td>101645.69</td>\n",
       "    </tr>\n",
       "    <tr>\n",
       "      <th>2021-03-03</th>\n",
       "      <td>0.00</td>\n",
       "      <td>101645.69</td>\n",
       "    </tr>\n",
       "    <tr>\n",
       "      <th>2021-03-04</th>\n",
       "      <td>-5331.19</td>\n",
       "      <td>199791.69</td>\n",
       "    </tr>\n",
       "    <tr>\n",
       "      <th>2021-03-05</th>\n",
       "      <td>-8050.00</td>\n",
       "      <td>88264.50</td>\n",
       "    </tr>\n",
       "  </tbody>\n",
       "</table>\n",
       "</div>"
      ],
      "text/plain": [
       "            profit_d  profit_acm_d\n",
       "timestamp                         \n",
       "2021-02-19      9.80     100009.80\n",
       "2021-02-20      0.00     100009.80\n",
       "2021-02-21      0.00     100009.80\n",
       "2021-02-22      0.00     100009.80\n",
       "2021-02-23   3917.20     103927.00\n",
       "2021-02-24   -903.00     103024.00\n",
       "2021-02-25    395.61     414597.68\n",
       "2021-02-26   -252.24     103167.37\n",
       "2021-02-27      0.00     103167.37\n",
       "2021-02-28      0.00     103167.37\n",
       "2021-03-01  -1521.68     409594.90\n",
       "2021-03-02      0.00     101645.69\n",
       "2021-03-03      0.00     101645.69\n",
       "2021-03-04  -5331.19     199791.69\n",
       "2021-03-05  -8050.00      88264.50"
      ]
     },
     "execution_count": 10,
     "metadata": {},
     "output_type": "execute_result"
    }
   ],
   "source": [
    "df = f_evolucion_capital(data)\n",
    "df"
   ]
  },
  {
   "cell_type": "code",
   "execution_count": 11,
   "metadata": {},
   "outputs": [],
   "source": [
    "import numpy as  np"
   ]
  },
  {
   "cell_type": "code",
   "execution_count": 12,
   "metadata": {},
   "outputs": [],
   "source": [
    "def f_estadisticas_mad(rf, period, df):\n",
    "    \n",
    "    #Sharpe Original\n",
    "    rp = np.log(df.profit_acm_d) - np.log(df.profit_acm_d.shift(1))\n",
    "    rp = rp.fillna(0)\n",
    "    sdp = rp.std()\n",
    "    rp = rp.mean()\n",
    "    rf = (rf/252)*period\n",
    "    sharpe_original = (rp - rf)/sdp\n",
    "\n",
    "    #Sharpe Ratio Actualizado\n",
    "    #r_trader = rp\n",
    "    #r_benchmark = 0.05\n",
    "    #sdp_=()\n",
    "    sharpe_actualizado = 0\n",
    "\n",
    "    #Drawdown \n",
    "    drawdown_cap = df.profit_d.min()\n",
    "    date_drawdown = (df.loc[df.profit_d == drawdown_cap].index.values[0])\n",
    "    date_drawdown = np.datetime_as_string(date_drawdown,unit='D')\n",
    "    #DrawUp\n",
    "    drawup_cap = df.profit_d.max()\n",
    "    date_drawup = np.datetime_as_string(df.loc[df.profit_d == drawup_cap].index.values[0],unit='D')\n",
    "\n",
    "    data = [\n",
    "        ['sharpe_original', 'Cantidad', sharpe_original,  \"Sharpe Ratio Fórmula Original\"],  \n",
    "        ['sharpe_actualizado', 'Cantidad', sharpe_actualizado,  \"Sharpe Ratio Fórmula Actualizado\"],\n",
    "        ['drawdown_capi', 'Fecha Final', drawdown_cap,  \"Máxima pérdida flotante registrada\"],\n",
    "        ['drawup_capi', 'Fecha Final', drawup_cap,  \"Máxima ganancia flotante registrada\"],\n",
    "        ['drawdown_capi', 'Fecha Inicial',  date_drawdown,  \"Fecha inicial del DrawDown de Capital\"],\n",
    "        ['drawdown_capi', 'Fecha Final', date_drawdown,  \"Máxima pérdida flotante registrada\"],\n",
    "        ['drawup_capi', 'Fecha Inicial', date_drawup,  \"Fecha inicial del DrawUp de Capital\"],\n",
    "        ['drawup_capi', 'Fecha Final', date_drawup,  \"Fecha final del DrawUp de Capital\"]]\n",
    "\n",
    "    df = pd.DataFrame(data_, columns=['metrica', ' ', 'Valor', 'Descripción'])\n",
    "\n",
    "    return df"
   ]
  },
  {
   "cell_type": "code",
   "execution_count": null,
   "metadata": {},
   "outputs": [],
   "source": []
  },
  {
   "cell_type": "code",
   "execution_count": null,
   "metadata": {},
   "outputs": [],
   "source": [
    "f_estadisticas_mad(0.05, 1, df)"
   ]
  },
  {
   "cell_type": "code",
   "execution_count": null,
   "metadata": {},
   "outputs": [],
   "source": []
  },
  {
   "cell_type": "markdown",
   "metadata": {},
   "source": [
    "##### Prueba parte 3 (BF)"
   ]
  },
  {
   "cell_type": "code",
   "execution_count": 17,
   "metadata": {},
   "outputs": [
    {
     "data": {
      "text/plain": [
       "Index(['Position', 'Time', 'Symbol', 'Type', 'Volume', 'Price', 'Time.1',\n",
       "       'Price.1', 'Commission', 'Swap', 'Profit', 'open_time', 'close_time',\n",
       "       'time', 'pips', 'pips_acm', 'profit_acm'],\n",
       "      dtype='object')"
      ]
     },
     "execution_count": 17,
     "metadata": {},
     "output_type": "execute_result"
    }
   ],
   "source": [
    "data3.keys()"
   ]
  },
  {
   "cell_type": "code",
   "execution_count": null,
   "metadata": {},
   "outputs": [],
   "source": []
  },
  {
   "cell_type": "code",
   "execution_count": null,
   "metadata": {},
   "outputs": [],
   "source": []
  },
  {
   "cell_type": "markdown",
   "metadata": {},
   "source": [
    "<br>"
   ]
  },
  {
   "cell_type": "markdown",
   "metadata": {},
   "source": [
    "# <font color= #6B6B6B> <font size = 6> 5. Conclusiones </font>"
   ]
  },
  {
   "cell_type": "markdown",
   "metadata": {},
   "source": [
    "<hr style=\"border:0.02in solid gray\"> </hr>"
   ]
  },
  {
   "cell_type": "markdown",
   "metadata": {},
   "source": []
  },
  {
   "cell_type": "code",
   "execution_count": 2,
   "metadata": {},
   "outputs": [],
   "source": [
    "# en esta seccion es opcional incluir algun codigo para mostrar\n",
    "# visualmente algun concepto o hallazgo relevante como conclusion"
   ]
  },
  {
   "cell_type": "code",
   "execution_count": 3,
   "metadata": {},
   "outputs": [],
   "source": [
    "# En esta sección es opcional incluir código para mostrar/visualizar\n",
    "# los datos con los que se trabajó en el laboratorio"
   ]
  },
  {
   "cell_type": "markdown",
   "metadata": {},
   "source": [
    "<br>"
   ]
  },
  {
   "cell_type": "markdown",
   "metadata": {},
   "source": [
    "# <font color= red> <font size = 6> 5. Pruebas (no incluir) </font>"
   ]
  },
  {
   "cell_type": "markdown",
   "metadata": {},
   "source": [
    "<hr style=\"border:0.02in solid red\"> </hr>"
   ]
  },
  {
   "cell_type": "markdown",
   "metadata": {},
   "source": [
    "Las siguientes son una serie de pruebas para verificar que todo este funcionando bien, instaladas/cargadas las librerias, importar otros scripts, imprimir graficas de plotly."
   ]
  },
  {
   "cell_type": "code",
   "execution_count": 4,
   "metadata": {},
   "outputs": [],
   "source": [
    "import pandas as pd\n",
    "import data as dt"
   ]
  },
  {
   "cell_type": "code",
   "execution_count": 5,
   "metadata": {},
   "outputs": [
    {
     "name": "stdout",
     "output_type": "stream",
     "text": [
      "{'key_a': 'a', 'key_b': 'b'}\n"
     ]
    }
   ],
   "source": [
    "# -- TEST 1 : \n",
    "# verify that the script is being read\n",
    "print(dt.dict_test)"
   ]
  },
  {
   "cell_type": "code",
   "execution_count": 6,
   "metadata": {},
   "outputs": [
    {
     "name": "stdout",
     "output_type": "stream",
     "text": [
      "  key_a key_b\n",
      "0     a     b\n",
      "1     a     b\n"
     ]
    }
   ],
   "source": [
    "# -- TEST 2 :\n",
    "# verify that installed pandas module works correctly\n",
    "df_dict_test = pd.DataFrame(dt.dict_test, index=[0,1])\n",
    "print(df_dict_test)"
   ]
  },
  {
   "cell_type": "code",
   "execution_count": 7,
   "metadata": {},
   "outputs": [
    {
     "data": {
      "text/html": [
       "\n",
       "        <iframe\n",
       "            width=\"100%\"\n",
       "            height=\"525px\"\n",
       "            src=\"https://plotly.com/~IFFranciscoME/160.embed\"\n",
       "            frameborder=\"0\"\n",
       "            allowfullscreen\n",
       "        ></iframe>\n",
       "        "
      ],
      "text/plain": [
       "<IPython.lib.display.IFrame at 0x7fc68ec2f1f0>"
      ]
     },
     "execution_count": 7,
     "metadata": {},
     "output_type": "execute_result"
    }
   ],
   "source": [
    "# -- TEST 3 :\n",
    "# verify you can use plotly and visualize plots in jupyter notebook\n",
    "\n",
    "import chart_studio.plotly as py  # various tools (jupyter offline print)\n",
    "import plotly.graph_objects as go # plotting engine \n",
    "\n",
    "# example data\n",
    "df = pd.DataFrame({'column_a': [1, 2, 3, 4, 5], 'column_b': [1, 2, 3, 4, 5]})\n",
    "# basic plotly plot\n",
    "data = [go.Bar(x=df['column_a'], y=df['column_b'])]\n",
    "# instruction to view it inside jupyter\n",
    "py.iplot(data, filename='jupyter-basic_bar')\n",
    "# (alternatively) instruction to view it in web app of plotly\n",
    "# py.plot(data)"
   ]
  },
  {
   "cell_type": "code",
   "execution_count": 8,
   "metadata": {},
   "outputs": [],
   "source": [
    "# -- TEST 4 :\n",
    "# verify you can use plotly and visualize plots in web browser locally\n",
    "\n",
    "import plotly.io as pio            # to define input-output of plots\n",
    "pio.renderers.default = \"browser\"  # to render the plot locally in your default web browser\n",
    "\n",
    "# basic plotly plot\n",
    "plot_data = go.Figure(go.Bar(x=df['column_a'], y=df['column_b']))\n",
    "# instruction to view it in specified render (in this case browser)\n",
    "plot_data.show()"
   ]
  }
 ],
 "metadata": {
  "kernelspec": {
   "display_name": "Python 3",
   "language": "python",
   "name": "python3"
  },
  "language_info": {
   "codemirror_mode": {
    "name": "ipython",
    "version": 3
   },
   "file_extension": ".py",
   "mimetype": "text/x-python",
   "name": "python",
   "nbconvert_exporter": "python",
   "pygments_lexer": "ipython3",
<<<<<<< HEAD
   "version": "3.7.3"
=======
   "version": "3.7.1"
>>>>>>> master
  }
 },
 "nbformat": 4,
 "nbformat_minor": 4
}
