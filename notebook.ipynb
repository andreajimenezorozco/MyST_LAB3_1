{
 "cells": [
  {
   "cell_type": "markdown",
   "metadata": {},
   "source": [
    "<img src=\"http://oci02.img.iteso.mx/identidad_de_instancia_2018/ITESO/Logos%20ITESO/Logo-ITESO-Principal.jpg\">"
   ]
  },
  {
   "cell_type": "markdown",
   "metadata": {},
   "source": [
    "<center><font color=#555555><font size=6> Ingeniería Financiera </font> <br> <br>\n",
    "\n",
    "<center><font color=#555555><font size=5> ITE1731 - Microestructura y Sistemas de Trading </font> <br> <br> <br>\n",
    "\n",
    "<center><font color=#555555><font size=5> I.F. Sofía García </font> <br> <br>\n",
    "<center><font color=#555555><font size=5> I.F. Evelyn Gutiérrez </font> <br> <br>\n",
    "<center><font color=#555555><font size=5> I.F. Andrea Jiménez Orozco </font> <br> <br>\n",
    "<center><font color=#555555><font size=5> I.F. Roberto Chávez Guerrero </font> <br> <br>\n",
    "<center><font color=#555555><font size=5> I.F. José Fernando Flores García </font> <br> <br>\n",
    "\n",
    "\n",
    "   \n",
    "<center> <font color= #555555> <font size = 4> Septiembre 2020 </a> | <font color= #555555> <font size = 4> Repositorio: <a href='https://github.com/andreajimenezorozco/MyST_LAB3_1'>Link</a></font>"
   ]
  },
  {
   "cell_type": "markdown",
   "metadata": {},
   "source": [
    "<br>"
   ]
  },
  {
   "cell_type": "markdown",
   "metadata": {},
   "source": [
    "---"
   ]
  },
  {
   "cell_type": "markdown",
   "metadata": {},
   "source": [
    "<br>"
   ]
  },
  {
   "cell_type": "markdown",
   "metadata": {},
   "source": [
    "<br>"
   ]
  },
  {
   "cell_type": "markdown",
   "metadata": {},
   "source": [
    "<center> <font color= #555555> <font size = 6> Laboratorio 3 </font> <br> <br> <font color= #555555> <font size = 5> Análisis del desempeño de Trading </font>"
   ]
  },
  {
   "cell_type": "markdown",
   "metadata": {},
   "source": [
    "# <font color= #555555> <font size = 5> Abstract </font>"
   ]
  },
  {
   "cell_type": "markdown",
   "metadata": {},
   "source": [
    "<font color= #6B6B6B> <font size = 2> Este documento fue elaborado por los I.F. **Sofía García, Evelyn Gutiérrez, Andrea Jiménez Orozco, Roberto Chávez Guerrero y José Fernando Flores García**, como un trabajo parcial para la materia de **Microestructura y Sistemas de Trading - ITE1731**, la cual es parte del curriculum de la licenciatura en Ingeniería Financiera, ofertada por la universidad **ITESO**. En el presente trabajo se plantea la respuesta a la siguiente pregunta: *¿Cómo análizar el desempeño de la actividad de trading?*</font> "
   ]
  },
  {
   "cell_type": "markdown",
   "metadata": {},
   "source": [
    "<br>"
   ]
  },
  {
   "cell_type": "markdown",
   "metadata": {},
   "source": [
    "# <font color= #6B6B6B> <font size = 6> 0. Librerías y Dependencias </font>"
   ]
  },
  {
   "cell_type": "markdown",
   "metadata": {},
   "source": [
    "<hr style=\"border:0.02in solid gray\"> </hr>"
   ]
  },
  {
   "cell_type": "markdown",
   "metadata": {},
   "source": [
    "# <font color= #6B6B6B> <font size = 5> 0.1 Librerías </font> <font color= #555555>"
   ]
  },
  {
   "cell_type": "markdown",
   "metadata": {},
   "source": [
    "<font color= #6B6B6B> <font size = 2> Para correr este notebook es necesario tener instaladas y/o en el archivo _requirements.txt_ las siguientes librerías : </font>"
   ]
  },
  {
   "cell_type": "markdown",
   "metadata": {},
   "source": [
    "<font color= #6B6B6B> <font size = 2>  \n",
    "- pandas >= 1.1.1 \n",
    "- numpy >= 1.19.1\n",
    "- jupyter >= 1.0.0\n",
    "- statistics \n",
    "- getpass\n",
    "- MetaTrader5 >= 5.0.34\n",
    "- datetime\n",
    "    </font>"
   ]
  },
  {
   "cell_type": "markdown",
   "metadata": {},
   "source": [
    "# <font color= #6B6B6B> <font size = 5> 0.2 Dependencias </font> <font color= #555555>"
   ]
  },
  {
   "cell_type": "markdown",
   "metadata": {},
   "source": [
    "<font color= #6B6B6B> <font size = 2> Para correr este notebook es necesario contar con los siguientes archivos y dependencias externas: </font>"
   ]
  },
  {
   "cell_type": "markdown",
   "metadata": {},
   "source": [
    "<font color= #6B6B6B> <font size = 2>  \n",
    "- files/Accounts.xlsx : Archivo de cuentas sugeridas\n",
    "    </font>"
   ]
  },
  {
   "cell_type": "markdown",
   "metadata": {},
   "source": [
    "<br>"
   ]
  },
  {
   "cell_type": "markdown",
   "metadata": {},
   "source": [
    "# <font color= #6B6B6B> <font size = 6> 1. Introducción </font>"
   ]
  },
  {
   "cell_type": "markdown",
   "metadata": {},
   "source": [
    "<hr style=\"border:0.02in solid gray\"> </hr>"
   ]
  },
  {
   "cell_type": "markdown",
   "metadata": {},
   "source": [
    "<font color= #6B6B6B> <font size = 2>  \n",
    "    \n",
    "    \n",
    "    \n",
    "    \n",
    "    \n",
    "    \n",
    "    \n",
    "    \n",
    "</font>"
   ]
  },
  {
   "cell_type": "markdown",
   "metadata": {},
   "source": [
    "<br>"
   ]
  },
  {
   "cell_type": "markdown",
   "metadata": {},
   "source": [
    "# <font color= #6B6B6B> <font size = 6> 2. Objetivos </font>"
   ]
  },
  {
   "cell_type": "markdown",
   "metadata": {},
   "source": [
    "<hr style=\"border:0.02in solid gray\"> </hr>"
   ]
  },
  {
   "cell_type": "markdown",
   "metadata": {},
   "source": [
    "<font color= #6B6B6B> <font size = 2> Este laboratorio tiene como propósito particular el elaborar herramientas para el análisis del desempeño de la actividad de trading, desde el punto de vista de la cuenta y desde el punto de vista de la persona que opera la cuenta (trader). </font> "
   ]
  },
  {
   "cell_type": "markdown",
   "metadata": {},
   "source": [
    "<br>"
   ]
  },
  {
   "cell_type": "markdown",
   "metadata": {},
   "source": [
    "# <font color= #6B6B6B> <font size = 6> 3. Datos </font>"
   ]
  },
  {
   "cell_type": "markdown",
   "metadata": {},
   "source": [
    "<hr style=\"border:0.02in solid gray\"> </hr>"
   ]
  },
  {
   "cell_type": "code",
   "execution_count": 1,
   "metadata": {},
   "outputs": [],
   "source": [
    "#Librerías\n",
    "from functions import *"
   ]
  },
  {
   "cell_type": "code",
   "execution_count": 2,
   "metadata": {},
   "outputs": [
    {
     "name": "stdout",
     "output_type": "stream",
     "text": [
      "Los nombres son: ['Fernando', 'Sofia', 'Andrea', 'Otro']\n",
      "Ingrese nombre del integrante a analizar: Sofia\n",
      "Se inició con éxito la cuenta\n"
     ]
    },
    {
     "data": {
      "text/html": [
       "<div>\n",
       "<style scoped>\n",
       "    .dataframe tbody tr th:only-of-type {\n",
       "        vertical-align: middle;\n",
       "    }\n",
       "\n",
       "    .dataframe tbody tr th {\n",
       "        vertical-align: top;\n",
       "    }\n",
       "\n",
       "    .dataframe thead th {\n",
       "        text-align: right;\n",
       "    }\n",
       "</style>\n",
       "<table border=\"1\" class=\"dataframe\">\n",
       "  <thead>\n",
       "    <tr style=\"text-align: right;\">\n",
       "      <th></th>\n",
       "      <th>Position</th>\n",
       "      <th>Time</th>\n",
       "      <th>Symbol</th>\n",
       "      <th>Type</th>\n",
       "      <th>Volume</th>\n",
       "      <th>Price</th>\n",
       "      <th>Time.1</th>\n",
       "      <th>Price.1</th>\n",
       "      <th>Commission</th>\n",
       "      <th>Swap</th>\n",
       "      <th>Profit</th>\n",
       "    </tr>\n",
       "  </thead>\n",
       "  <tbody>\n",
       "    <tr>\n",
       "      <th>0</th>\n",
       "      <td>874808802</td>\n",
       "      <td>1613966331</td>\n",
       "      <td>USDCHF</td>\n",
       "      <td>sell</td>\n",
       "      <td>0.11</td>\n",
       "      <td>0.89665</td>\n",
       "      <td>1613989736</td>\n",
       "      <td>0.90170</td>\n",
       "      <td>0.0</td>\n",
       "      <td>0.00</td>\n",
       "      <td>-61.61</td>\n",
       "    </tr>\n",
       "    <tr>\n",
       "      <th>1</th>\n",
       "      <td>876774544</td>\n",
       "      <td>1614062869</td>\n",
       "      <td>USDHKD</td>\n",
       "      <td>sell</td>\n",
       "      <td>0.01</td>\n",
       "      <td>7.75336</td>\n",
       "      <td>1614116190</td>\n",
       "      <td>7.75403</td>\n",
       "      <td>0.0</td>\n",
       "      <td>0.00</td>\n",
       "      <td>-0.09</td>\n",
       "    </tr>\n",
       "    <tr>\n",
       "      <th>2</th>\n",
       "      <td>875643545</td>\n",
       "      <td>1614007518</td>\n",
       "      <td>USDCHF</td>\n",
       "      <td>sell</td>\n",
       "      <td>0.10</td>\n",
       "      <td>0.89671</td>\n",
       "      <td>1614149025</td>\n",
       "      <td>0.90671</td>\n",
       "      <td>0.0</td>\n",
       "      <td>-0.22</td>\n",
       "      <td>-110.29</td>\n",
       "    </tr>\n",
       "    <tr>\n",
       "      <th>3</th>\n",
       "      <td>878724283</td>\n",
       "      <td>1614152189</td>\n",
       "      <td>USDNOK</td>\n",
       "      <td>sell</td>\n",
       "      <td>0.10</td>\n",
       "      <td>8.46777</td>\n",
       "      <td>1614208999</td>\n",
       "      <td>8.37131</td>\n",
       "      <td>0.0</td>\n",
       "      <td>0.00</td>\n",
       "      <td>115.23</td>\n",
       "    </tr>\n",
       "    <tr>\n",
       "      <th>4</th>\n",
       "      <td>874636239</td>\n",
       "      <td>1613778939</td>\n",
       "      <td>EURUSD</td>\n",
       "      <td>sell</td>\n",
       "      <td>0.11</td>\n",
       "      <td>1.21174</td>\n",
       "      <td>1614238068</td>\n",
       "      <td>1.21824</td>\n",
       "      <td>0.0</td>\n",
       "      <td>-0.66</td>\n",
       "      <td>-71.50</td>\n",
       "    </tr>\n",
       "  </tbody>\n",
       "</table>\n",
       "</div>"
      ],
      "text/plain": [
       "    Position        Time  Symbol  Type  Volume    Price      Time.1  Price.1  \\\n",
       "0  874808802  1613966331  USDCHF  sell    0.11  0.89665  1613989736  0.90170   \n",
       "1  876774544  1614062869  USDHKD  sell    0.01  7.75336  1614116190  7.75403   \n",
       "2  875643545  1614007518  USDCHF  sell    0.10  0.89671  1614149025  0.90671   \n",
       "3  878724283  1614152189  USDNOK  sell    0.10  8.46777  1614208999  8.37131   \n",
       "4  874636239  1613778939  EURUSD  sell    0.11  1.21174  1614238068  1.21824   \n",
       "\n",
       "   Commission  Swap  Profit  \n",
       "0         0.0  0.00  -61.61  \n",
       "1         0.0  0.00   -0.09  \n",
       "2         0.0 -0.22 -110.29  \n",
       "3         0.0  0.00  115.23  \n",
       "4         0.0 -0.66  -71.50  "
      ]
     },
     "execution_count": 2,
     "metadata": {},
     "output_type": "execute_result"
    }
   ],
   "source": [
    "#Se muestra el ejemplo crudo de una cuenta\n",
    "f_leer_archivo().head()"
   ]
  },
  {
   "cell_type": "markdown",
   "metadata": {},
   "source": [
    "# <font color= #6B6B6B> <font size = 6> 4. Procesos </font>"
   ]
  },
  {
   "cell_type": "markdown",
   "metadata": {},
   "source": [
    "<hr style=\"border:0.02in solid gray\"> </hr>"
   ]
  },
  {
   "cell_type": "markdown",
   "metadata": {},
   "source": [
    "<h2><font color= #6B6B6B> Parte1. Creación de un análisis de pips, tiempo transcurrido, así como estadísticas básicas </font></h2>\n",
    "    \n",
    "    \n",
    "<font color= #6B6B6B> <font size = 2> Los múltiples DataFrames creados serán útiles para realizar análisis y estadísticas básicas de las cuentas de los integrantes del equipo (o cualquier otra cuenta de trading que se encuentre en el servidor MetaQuotesDemo). </font> "
   ]
  },
  {
   "cell_type": "code",
   "execution_count": 6,
   "metadata": {},
   "outputs": [
    {
     "name": "stdout",
     "output_type": "stream",
     "text": [
      "Los nombres son: ['Fernando', 'Sofia', 'Andrea', 'Otro']\n",
      "Ingrese nombre del integrante a analizar: Andrea\n",
      "Se inició con éxito la cuenta\n",
      "Primer análisis realizado con éxito\n"
     ]
    }
   ],
   "source": [
    "data, data2, data3, data4, df1_est_ba, df2_ranking = Full_Part1()"
   ]
  },
  {
   "cell_type": "code",
   "execution_count": 7,
   "metadata": {},
   "outputs": [
    {
     "data": {
      "text/plain": [
       "(100, 10000)"
      ]
     },
     "execution_count": 7,
     "metadata": {},
     "output_type": "execute_result"
    }
   ],
   "source": [
    "#Ejemplo de tamaño de pips independientemente del intrumento\n",
    "f_pip_size('USDJPY'), f_pip_size('EURUSD')"
   ]
  },
  {
   "cell_type": "code",
   "execution_count": 8,
   "metadata": {},
   "outputs": [
    {
     "data": {
      "text/html": [
       "<div>\n",
       "<style scoped>\n",
       "    .dataframe tbody tr th:only-of-type {\n",
       "        vertical-align: middle;\n",
       "    }\n",
       "\n",
       "    .dataframe tbody tr th {\n",
       "        vertical-align: top;\n",
       "    }\n",
       "\n",
       "    .dataframe thead th {\n",
       "        text-align: right;\n",
       "    }\n",
       "</style>\n",
       "<table border=\"1\" class=\"dataframe\">\n",
       "  <thead>\n",
       "    <tr style=\"text-align: right;\">\n",
       "      <th></th>\n",
       "      <th>Position</th>\n",
       "      <th>Time</th>\n",
       "      <th>Symbol</th>\n",
       "      <th>Type</th>\n",
       "      <th>Volume</th>\n",
       "      <th>Price</th>\n",
       "      <th>Time.1</th>\n",
       "      <th>Price.1</th>\n",
       "      <th>Commission</th>\n",
       "      <th>Swap</th>\n",
       "      <th>Profit</th>\n",
       "      <th>open_time</th>\n",
       "      <th>close_time</th>\n",
       "      <th>time</th>\n",
       "      <th>pips</th>\n",
       "      <th>pips_acm</th>\n",
       "      <th>profit_acm</th>\n",
       "    </tr>\n",
       "  </thead>\n",
       "  <tbody>\n",
       "    <tr>\n",
       "      <th>0</th>\n",
       "      <td>874536090</td>\n",
       "      <td>1613770429</td>\n",
       "      <td>EURUSD</td>\n",
       "      <td>sell</td>\n",
       "      <td>0.05</td>\n",
       "      <td>1.21125</td>\n",
       "      <td>1613970236</td>\n",
       "      <td>1.21201</td>\n",
       "      <td>0.0</td>\n",
       "      <td>-0.05</td>\n",
       "      <td>-3.80</td>\n",
       "      <td>2021-02-19 15:33:49</td>\n",
       "      <td>2021-02-21 23:03:56</td>\n",
       "      <td>199807.0</td>\n",
       "      <td>-7.6</td>\n",
       "      <td>-7.6</td>\n",
       "      <td>-3.80</td>\n",
       "    </tr>\n",
       "    <tr>\n",
       "      <th>1</th>\n",
       "      <td>874484872</td>\n",
       "      <td>1613767461</td>\n",
       "      <td>USDMXN</td>\n",
       "      <td>sell</td>\n",
       "      <td>0.05</td>\n",
       "      <td>20.47631</td>\n",
       "      <td>1613985679</td>\n",
       "      <td>20.65000</td>\n",
       "      <td>0.0</td>\n",
       "      <td>0.49</td>\n",
       "      <td>-42.06</td>\n",
       "      <td>2021-02-19 14:44:21</td>\n",
       "      <td>2021-02-22 03:21:19</td>\n",
       "      <td>218218.0</td>\n",
       "      <td>-1736.9</td>\n",
       "      <td>-1744.5</td>\n",
       "      <td>-45.86</td>\n",
       "    </tr>\n",
       "    <tr>\n",
       "      <th>2</th>\n",
       "      <td>874537024</td>\n",
       "      <td>1613770507</td>\n",
       "      <td>USDMXN</td>\n",
       "      <td>sell</td>\n",
       "      <td>0.05</td>\n",
       "      <td>20.50927</td>\n",
       "      <td>1613985679</td>\n",
       "      <td>20.65000</td>\n",
       "      <td>0.0</td>\n",
       "      <td>0.49</td>\n",
       "      <td>-34.08</td>\n",
       "      <td>2021-02-19 15:35:07</td>\n",
       "      <td>2021-02-22 03:21:19</td>\n",
       "      <td>215172.0</td>\n",
       "      <td>-1407.3</td>\n",
       "      <td>-3151.8</td>\n",
       "      <td>-79.94</td>\n",
       "    </tr>\n",
       "    <tr>\n",
       "      <th>3</th>\n",
       "      <td>874727636</td>\n",
       "      <td>1613960199</td>\n",
       "      <td>USDMXN</td>\n",
       "      <td>sell</td>\n",
       "      <td>0.10</td>\n",
       "      <td>20.48310</td>\n",
       "      <td>1613985679</td>\n",
       "      <td>20.65000</td>\n",
       "      <td>0.0</td>\n",
       "      <td>0.00</td>\n",
       "      <td>-80.82</td>\n",
       "      <td>2021-02-21 20:16:39</td>\n",
       "      <td>2021-02-22 03:21:19</td>\n",
       "      <td>25480.0</td>\n",
       "      <td>-1669.0</td>\n",
       "      <td>-4820.8</td>\n",
       "      <td>-160.76</td>\n",
       "    </tr>\n",
       "    <tr>\n",
       "      <th>4</th>\n",
       "      <td>874860183</td>\n",
       "      <td>1613970329</td>\n",
       "      <td>EURUSD</td>\n",
       "      <td>buy</td>\n",
       "      <td>0.30</td>\n",
       "      <td>1.21204</td>\n",
       "      <td>1614050026</td>\n",
       "      <td>1.21648</td>\n",
       "      <td>0.0</td>\n",
       "      <td>-0.21</td>\n",
       "      <td>133.20</td>\n",
       "      <td>2021-02-21 23:05:29</td>\n",
       "      <td>2021-02-22 21:13:46</td>\n",
       "      <td>79697.0</td>\n",
       "      <td>44.4</td>\n",
       "      <td>-4776.4</td>\n",
       "      <td>-27.56</td>\n",
       "    </tr>\n",
       "  </tbody>\n",
       "</table>\n",
       "</div>"
      ],
      "text/plain": [
       "    Position        Time  Symbol  Type  Volume     Price      Time.1  \\\n",
       "0  874536090  1613770429  EURUSD  sell    0.05   1.21125  1613970236   \n",
       "1  874484872  1613767461  USDMXN  sell    0.05  20.47631  1613985679   \n",
       "2  874537024  1613770507  USDMXN  sell    0.05  20.50927  1613985679   \n",
       "3  874727636  1613960199  USDMXN  sell    0.10  20.48310  1613985679   \n",
       "4  874860183  1613970329  EURUSD   buy    0.30   1.21204  1614050026   \n",
       "\n",
       "    Price.1  Commission  Swap  Profit           open_time          close_time  \\\n",
       "0   1.21201         0.0 -0.05   -3.80 2021-02-19 15:33:49 2021-02-21 23:03:56   \n",
       "1  20.65000         0.0  0.49  -42.06 2021-02-19 14:44:21 2021-02-22 03:21:19   \n",
       "2  20.65000         0.0  0.49  -34.08 2021-02-19 15:35:07 2021-02-22 03:21:19   \n",
       "3  20.65000         0.0  0.00  -80.82 2021-02-21 20:16:39 2021-02-22 03:21:19   \n",
       "4   1.21648         0.0 -0.21  133.20 2021-02-21 23:05:29 2021-02-22 21:13:46   \n",
       "\n",
       "       time    pips  pips_acm  profit_acm  \n",
       "0  199807.0    -7.6      -7.6       -3.80  \n",
       "1  218218.0 -1736.9   -1744.5      -45.86  \n",
       "2  215172.0 -1407.3   -3151.8      -79.94  \n",
       "3   25480.0 -1669.0   -4820.8     -160.76  \n",
       "4   79697.0    44.4   -4776.4      -27.56  "
      ]
     },
     "execution_count": 8,
     "metadata": {},
     "output_type": "execute_result"
    }
   ],
   "source": [
    "#Primer DataFrame con lectura de datos\n",
    "data.head()"
   ]
  },
  {
   "cell_type": "code",
   "execution_count": 9,
   "metadata": {},
   "outputs": [
    {
     "data": {
      "text/html": [
       "<div>\n",
       "<style scoped>\n",
       "    .dataframe tbody tr th:only-of-type {\n",
       "        vertical-align: middle;\n",
       "    }\n",
       "\n",
       "    .dataframe tbody tr th {\n",
       "        vertical-align: top;\n",
       "    }\n",
       "\n",
       "    .dataframe thead th {\n",
       "        text-align: right;\n",
       "    }\n",
       "</style>\n",
       "<table border=\"1\" class=\"dataframe\">\n",
       "  <thead>\n",
       "    <tr style=\"text-align: right;\">\n",
       "      <th></th>\n",
       "      <th>Position</th>\n",
       "      <th>Time</th>\n",
       "      <th>Symbol</th>\n",
       "      <th>Type</th>\n",
       "      <th>Volume</th>\n",
       "      <th>Price</th>\n",
       "      <th>Time.1</th>\n",
       "      <th>Price.1</th>\n",
       "      <th>Commission</th>\n",
       "      <th>Swap</th>\n",
       "      <th>Profit</th>\n",
       "      <th>open_time</th>\n",
       "      <th>close_time</th>\n",
       "      <th>time</th>\n",
       "      <th>pips</th>\n",
       "      <th>pips_acm</th>\n",
       "      <th>profit_acm</th>\n",
       "    </tr>\n",
       "  </thead>\n",
       "  <tbody>\n",
       "    <tr>\n",
       "      <th>0</th>\n",
       "      <td>874536090</td>\n",
       "      <td>1613770429</td>\n",
       "      <td>EURUSD</td>\n",
       "      <td>sell</td>\n",
       "      <td>0.05</td>\n",
       "      <td>1.21125</td>\n",
       "      <td>1613970236</td>\n",
       "      <td>1.21201</td>\n",
       "      <td>0.0</td>\n",
       "      <td>-0.05</td>\n",
       "      <td>-3.80</td>\n",
       "      <td>2021-02-19 15:33:49</td>\n",
       "      <td>2021-02-21 23:03:56</td>\n",
       "      <td>199807.0</td>\n",
       "      <td>-7.6</td>\n",
       "      <td>-7.6</td>\n",
       "      <td>-3.80</td>\n",
       "    </tr>\n",
       "    <tr>\n",
       "      <th>1</th>\n",
       "      <td>874484872</td>\n",
       "      <td>1613767461</td>\n",
       "      <td>USDMXN</td>\n",
       "      <td>sell</td>\n",
       "      <td>0.05</td>\n",
       "      <td>20.47631</td>\n",
       "      <td>1613985679</td>\n",
       "      <td>20.65000</td>\n",
       "      <td>0.0</td>\n",
       "      <td>0.49</td>\n",
       "      <td>-42.06</td>\n",
       "      <td>2021-02-19 14:44:21</td>\n",
       "      <td>2021-02-22 03:21:19</td>\n",
       "      <td>218218.0</td>\n",
       "      <td>-1736.9</td>\n",
       "      <td>-1744.5</td>\n",
       "      <td>-45.86</td>\n",
       "    </tr>\n",
       "    <tr>\n",
       "      <th>2</th>\n",
       "      <td>874537024</td>\n",
       "      <td>1613770507</td>\n",
       "      <td>USDMXN</td>\n",
       "      <td>sell</td>\n",
       "      <td>0.05</td>\n",
       "      <td>20.50927</td>\n",
       "      <td>1613985679</td>\n",
       "      <td>20.65000</td>\n",
       "      <td>0.0</td>\n",
       "      <td>0.49</td>\n",
       "      <td>-34.08</td>\n",
       "      <td>2021-02-19 15:35:07</td>\n",
       "      <td>2021-02-22 03:21:19</td>\n",
       "      <td>215172.0</td>\n",
       "      <td>-1407.3</td>\n",
       "      <td>-3151.8</td>\n",
       "      <td>-79.94</td>\n",
       "    </tr>\n",
       "    <tr>\n",
       "      <th>3</th>\n",
       "      <td>874727636</td>\n",
       "      <td>1613960199</td>\n",
       "      <td>USDMXN</td>\n",
       "      <td>sell</td>\n",
       "      <td>0.10</td>\n",
       "      <td>20.48310</td>\n",
       "      <td>1613985679</td>\n",
       "      <td>20.65000</td>\n",
       "      <td>0.0</td>\n",
       "      <td>0.00</td>\n",
       "      <td>-80.82</td>\n",
       "      <td>2021-02-21 20:16:39</td>\n",
       "      <td>2021-02-22 03:21:19</td>\n",
       "      <td>25480.0</td>\n",
       "      <td>-1669.0</td>\n",
       "      <td>-4820.8</td>\n",
       "      <td>-160.76</td>\n",
       "    </tr>\n",
       "    <tr>\n",
       "      <th>4</th>\n",
       "      <td>874860183</td>\n",
       "      <td>1613970329</td>\n",
       "      <td>EURUSD</td>\n",
       "      <td>buy</td>\n",
       "      <td>0.30</td>\n",
       "      <td>1.21204</td>\n",
       "      <td>1614050026</td>\n",
       "      <td>1.21648</td>\n",
       "      <td>0.0</td>\n",
       "      <td>-0.21</td>\n",
       "      <td>133.20</td>\n",
       "      <td>2021-02-21 23:05:29</td>\n",
       "      <td>2021-02-22 21:13:46</td>\n",
       "      <td>79697.0</td>\n",
       "      <td>44.4</td>\n",
       "      <td>-4776.4</td>\n",
       "      <td>-27.56</td>\n",
       "    </tr>\n",
       "  </tbody>\n",
       "</table>\n",
       "</div>"
      ],
      "text/plain": [
       "    Position        Time  Symbol  Type  Volume     Price      Time.1  \\\n",
       "0  874536090  1613770429  EURUSD  sell    0.05   1.21125  1613970236   \n",
       "1  874484872  1613767461  USDMXN  sell    0.05  20.47631  1613985679   \n",
       "2  874537024  1613770507  USDMXN  sell    0.05  20.50927  1613985679   \n",
       "3  874727636  1613960199  USDMXN  sell    0.10  20.48310  1613985679   \n",
       "4  874860183  1613970329  EURUSD   buy    0.30   1.21204  1614050026   \n",
       "\n",
       "    Price.1  Commission  Swap  Profit           open_time          close_time  \\\n",
       "0   1.21201         0.0 -0.05   -3.80 2021-02-19 15:33:49 2021-02-21 23:03:56   \n",
       "1  20.65000         0.0  0.49  -42.06 2021-02-19 14:44:21 2021-02-22 03:21:19   \n",
       "2  20.65000         0.0  0.49  -34.08 2021-02-19 15:35:07 2021-02-22 03:21:19   \n",
       "3  20.65000         0.0  0.00  -80.82 2021-02-21 20:16:39 2021-02-22 03:21:19   \n",
       "4   1.21648         0.0 -0.21  133.20 2021-02-21 23:05:29 2021-02-22 21:13:46   \n",
       "\n",
       "       time    pips  pips_acm  profit_acm  \n",
       "0  199807.0    -7.6      -7.6       -3.80  \n",
       "1  218218.0 -1736.9   -1744.5      -45.86  \n",
       "2  215172.0 -1407.3   -3151.8      -79.94  \n",
       "3   25480.0 -1669.0   -4820.8     -160.76  \n",
       "4   79697.0    44.4   -4776.4      -27.56  "
      ]
     },
     "execution_count": 9,
     "metadata": {},
     "output_type": "execute_result"
    }
   ],
   "source": [
    "#Se avanza en el análisis de los DataFrames añadiendo columnas de tiempos, pips\n",
    "data3.head()"
   ]
  },
  {
   "cell_type": "code",
   "execution_count": 10,
   "metadata": {},
   "outputs": [
    {
     "data": {
      "text/html": [
       "<div>\n",
       "<style scoped>\n",
       "    .dataframe tbody tr th:only-of-type {\n",
       "        vertical-align: middle;\n",
       "    }\n",
       "\n",
       "    .dataframe tbody tr th {\n",
       "        vertical-align: top;\n",
       "    }\n",
       "\n",
       "    .dataframe thead th {\n",
       "        text-align: right;\n",
       "    }\n",
       "</style>\n",
       "<table border=\"1\" class=\"dataframe\">\n",
       "  <thead>\n",
       "    <tr style=\"text-align: right;\">\n",
       "      <th></th>\n",
       "      <th>medida</th>\n",
       "      <th>valor</th>\n",
       "      <th>descripcion</th>\n",
       "    </tr>\n",
       "  </thead>\n",
       "  <tbody>\n",
       "    <tr>\n",
       "      <th>0</th>\n",
       "      <td>Ops totales</td>\n",
       "      <td>24.00</td>\n",
       "      <td>Operaciones totales</td>\n",
       "    </tr>\n",
       "    <tr>\n",
       "      <th>1</th>\n",
       "      <td>Ganadoras</td>\n",
       "      <td>13.00</td>\n",
       "      <td>Operaciones ganadoras</td>\n",
       "    </tr>\n",
       "    <tr>\n",
       "      <th>2</th>\n",
       "      <td>Ganadoras_c</td>\n",
       "      <td>11.00</td>\n",
       "      <td>Operaciones ganadoras de compra</td>\n",
       "    </tr>\n",
       "    <tr>\n",
       "      <th>3</th>\n",
       "      <td>Ganadoras_v</td>\n",
       "      <td>2.00</td>\n",
       "      <td>Operaciones ganadoras de venta</td>\n",
       "    </tr>\n",
       "    <tr>\n",
       "      <th>4</th>\n",
       "      <td>Perdedoras</td>\n",
       "      <td>11.00</td>\n",
       "      <td>Operaciones perdedoras</td>\n",
       "    </tr>\n",
       "    <tr>\n",
       "      <th>5</th>\n",
       "      <td>Perdedoras_c</td>\n",
       "      <td>5.00</td>\n",
       "      <td>Operaciones perdedoras de compra</td>\n",
       "    </tr>\n",
       "    <tr>\n",
       "      <th>6</th>\n",
       "      <td>Perdedoras_v</td>\n",
       "      <td>6.00</td>\n",
       "      <td>Operaciones perdedoras de venta</td>\n",
       "    </tr>\n",
       "    <tr>\n",
       "      <th>7</th>\n",
       "      <td>Mediana(Profit)</td>\n",
       "      <td>24.30</td>\n",
       "      <td>Mediana de profit de operaciones</td>\n",
       "    </tr>\n",
       "    <tr>\n",
       "      <th>8</th>\n",
       "      <td>Mediana(Pips)</td>\n",
       "      <td>25.50</td>\n",
       "      <td>Mediana de pips de operaciones</td>\n",
       "    </tr>\n",
       "    <tr>\n",
       "      <th>9</th>\n",
       "      <td>r_efectividad</td>\n",
       "      <td>0.54</td>\n",
       "      <td>Ganadoras Totales/Operaciones Totales</td>\n",
       "    </tr>\n",
       "    <tr>\n",
       "      <th>10</th>\n",
       "      <td>r_proporcion</td>\n",
       "      <td>1.18</td>\n",
       "      <td>Ganadoras Totales/Perdedoras Totales</td>\n",
       "    </tr>\n",
       "    <tr>\n",
       "      <th>11</th>\n",
       "      <td>r_efectividad_c</td>\n",
       "      <td>0.46</td>\n",
       "      <td>Ganadoras Compras/Operaciones Totales</td>\n",
       "    </tr>\n",
       "    <tr>\n",
       "      <th>12</th>\n",
       "      <td>r_efectividad_v</td>\n",
       "      <td>0.08</td>\n",
       "      <td>Ganadoras Ventas/Operaciones Totales</td>\n",
       "    </tr>\n",
       "  </tbody>\n",
       "</table>\n",
       "</div>"
      ],
      "text/plain": [
       "             medida  valor                            descripcion\n",
       "0       Ops totales  24.00                    Operaciones totales\n",
       "1         Ganadoras  13.00                  Operaciones ganadoras\n",
       "2       Ganadoras_c  11.00        Operaciones ganadoras de compra\n",
       "3       Ganadoras_v   2.00         Operaciones ganadoras de venta\n",
       "4        Perdedoras  11.00                 Operaciones perdedoras\n",
       "5      Perdedoras_c   5.00       Operaciones perdedoras de compra\n",
       "6      Perdedoras_v   6.00        Operaciones perdedoras de venta\n",
       "7   Mediana(Profit)  24.30       Mediana de profit de operaciones\n",
       "8     Mediana(Pips)  25.50         Mediana de pips de operaciones\n",
       "9     r_efectividad   0.54  Ganadoras Totales/Operaciones Totales\n",
       "10     r_proporcion   1.18   Ganadoras Totales/Perdedoras Totales\n",
       "11  r_efectividad_c   0.46  Ganadoras Compras/Operaciones Totales\n",
       "12  r_efectividad_v   0.08   Ganadoras Ventas/Operaciones Totales"
      ]
     },
     "execution_count": 10,
     "metadata": {},
     "output_type": "execute_result"
    }
   ],
   "source": [
    "#Resultados de estadísticas básicas\n",
    "df1_est_ba"
   ]
  },
  {
   "cell_type": "code",
   "execution_count": 11,
   "metadata": {},
   "outputs": [
    {
     "data": {
      "text/html": [
       "<div>\n",
       "<style scoped>\n",
       "    .dataframe tbody tr th:only-of-type {\n",
       "        vertical-align: middle;\n",
       "    }\n",
       "\n",
       "    .dataframe tbody tr th {\n",
       "        vertical-align: top;\n",
       "    }\n",
       "\n",
       "    .dataframe thead th {\n",
       "        text-align: right;\n",
       "    }\n",
       "</style>\n",
       "<table border=\"1\" class=\"dataframe\">\n",
       "  <thead>\n",
       "    <tr style=\"text-align: right;\">\n",
       "      <th></th>\n",
       "      <th>symbol</th>\n",
       "      <th>rank (%)</th>\n",
       "    </tr>\n",
       "  </thead>\n",
       "  <tbody>\n",
       "    <tr>\n",
       "      <th>0</th>\n",
       "      <td>USDJPY</td>\n",
       "      <td>100.0</td>\n",
       "    </tr>\n",
       "    <tr>\n",
       "      <th>1</th>\n",
       "      <td>EURUSD</td>\n",
       "      <td>50.0</td>\n",
       "    </tr>\n",
       "    <tr>\n",
       "      <th>2</th>\n",
       "      <td>USDMXN</td>\n",
       "      <td>43.0</td>\n",
       "    </tr>\n",
       "  </tbody>\n",
       "</table>\n",
       "</div>"
      ],
      "text/plain": [
       "   symbol  rank (%)\n",
       "0  USDJPY     100.0\n",
       "1  EURUSD      50.0\n",
       "2  USDMXN      43.0"
      ]
     },
     "execution_count": 11,
     "metadata": {},
     "output_type": "execute_result"
    }
   ],
   "source": [
    "#Resultados de ranking\n",
    "df2_ranking"
   ]
  },
  {
   "cell_type": "markdown",
   "metadata": {},
   "source": [
    "<br>"
   ]
  },
  {
   "cell_type": "markdown",
   "metadata": {},
   "source": [
    "# <font color= #6B6B6B> <font size = 6> 5. Conclusiones </font>"
   ]
  },
  {
   "cell_type": "markdown",
   "metadata": {},
   "source": [
    "<hr style=\"border:0.02in solid gray\"> </hr>"
   ]
  },
  {
   "cell_type": "markdown",
   "metadata": {},
   "source": []
  },
  {
   "cell_type": "code",
   "execution_count": 2,
   "metadata": {},
   "outputs": [],
   "source": [
    "# en esta seccion es opcional incluir algun codigo para mostrar\n",
    "# visualmente algun concepto o hallazgo relevante como conclusion"
   ]
  },
  {
   "cell_type": "code",
   "execution_count": 3,
   "metadata": {},
   "outputs": [],
   "source": [
    "# En esta sección es opcional incluir código para mostrar/visualizar\n",
    "# los datos con los que se trabajó en el laboratorio"
   ]
  },
  {
   "cell_type": "markdown",
   "metadata": {},
   "source": [
    "<br>"
   ]
  },
  {
   "cell_type": "markdown",
   "metadata": {},
   "source": [
    "# <font color= red> <font size = 6> 5. Pruebas (no incluir) </font>"
   ]
  },
  {
   "cell_type": "markdown",
   "metadata": {},
   "source": [
    "<hr style=\"border:0.02in solid red\"> </hr>"
   ]
  },
  {
   "cell_type": "markdown",
   "metadata": {},
   "source": [
    "Las siguientes son una serie de pruebas para verificar que todo este funcionando bien, instaladas/cargadas las librerias, importar otros scripts, imprimir graficas de plotly."
   ]
  },
  {
   "cell_type": "code",
   "execution_count": 4,
   "metadata": {},
   "outputs": [],
   "source": [
    "import pandas as pd\n",
    "import data as dt"
   ]
  },
  {
   "cell_type": "code",
   "execution_count": 5,
   "metadata": {},
   "outputs": [
    {
     "name": "stdout",
     "output_type": "stream",
     "text": [
      "{'key_a': 'a', 'key_b': 'b'}\n"
     ]
    }
   ],
   "source": [
    "# -- TEST 1 : \n",
    "# verify that the script is being read\n",
    "print(dt.dict_test)"
   ]
  },
  {
   "cell_type": "code",
   "execution_count": 6,
   "metadata": {},
   "outputs": [
    {
     "name": "stdout",
     "output_type": "stream",
     "text": [
      "  key_a key_b\n",
      "0     a     b\n",
      "1     a     b\n"
     ]
    }
   ],
   "source": [
    "# -- TEST 2 :\n",
    "# verify that installed pandas module works correctly\n",
    "df_dict_test = pd.DataFrame(dt.dict_test, index=[0,1])\n",
    "print(df_dict_test)"
   ]
  },
  {
   "cell_type": "code",
   "execution_count": 7,
   "metadata": {},
   "outputs": [
    {
     "data": {
      "text/html": [
       "\n",
       "        <iframe\n",
       "            width=\"100%\"\n",
       "            height=\"525px\"\n",
       "            src=\"https://plotly.com/~IFFranciscoME/160.embed\"\n",
       "            frameborder=\"0\"\n",
       "            allowfullscreen\n",
       "        ></iframe>\n",
       "        "
      ],
      "text/plain": [
       "<IPython.lib.display.IFrame at 0x7fc68ec2f1f0>"
      ]
     },
     "execution_count": 7,
     "metadata": {},
     "output_type": "execute_result"
    }
   ],
   "source": [
    "# -- TEST 3 :\n",
    "# verify you can use plotly and visualize plots in jupyter notebook\n",
    "\n",
    "import chart_studio.plotly as py  # various tools (jupyter offline print)\n",
    "import plotly.graph_objects as go # plotting engine \n",
    "\n",
    "# example data\n",
    "df = pd.DataFrame({'column_a': [1, 2, 3, 4, 5], 'column_b': [1, 2, 3, 4, 5]})\n",
    "# basic plotly plot\n",
    "data = [go.Bar(x=df['column_a'], y=df['column_b'])]\n",
    "# instruction to view it inside jupyter\n",
    "py.iplot(data, filename='jupyter-basic_bar')\n",
    "# (alternatively) instruction to view it in web app of plotly\n",
    "# py.plot(data)"
   ]
  },
  {
   "cell_type": "code",
   "execution_count": 8,
   "metadata": {},
   "outputs": [],
   "source": [
    "# -- TEST 4 :\n",
    "# verify you can use plotly and visualize plots in web browser locally\n",
    "\n",
    "import plotly.io as pio            # to define input-output of plots\n",
    "pio.renderers.default = \"browser\"  # to render the plot locally in your default web browser\n",
    "\n",
    "# basic plotly plot\n",
    "plot_data = go.Figure(go.Bar(x=df['column_a'], y=df['column_b']))\n",
    "# instruction to view it in specified render (in this case browser)\n",
    "plot_data.show()"
   ]
  }
 ],
 "metadata": {
  "kernelspec": {
   "display_name": "Python 3",
   "language": "python",
   "name": "python3"
  },
  "language_info": {
   "codemirror_mode": {
    "name": "ipython",
    "version": 3
   },
   "file_extension": ".py",
   "mimetype": "text/x-python",
   "name": "python",
   "nbconvert_exporter": "python",
   "pygments_lexer": "ipython3",
   "version": "3.7.1"
  }
 },
 "nbformat": 4,
 "nbformat_minor": 4
}
